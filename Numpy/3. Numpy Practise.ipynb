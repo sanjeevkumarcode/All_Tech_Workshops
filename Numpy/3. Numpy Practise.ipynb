{
 "cells": [
  {
   "cell_type": "code",
   "execution_count": 2,
   "id": "d7f5046c",
   "metadata": {},
   "outputs": [
    {
     "name": "stdout",
     "output_type": "stream",
     "text": [
      "[10 12 14 16 20 25]\n",
      "int32\n",
      "4\n"
     ]
    }
   ],
   "source": [
    "import numpy as np\n",
    "my_array=np.array([10,12,14,16,20,25])\n",
    "print(my_array)\n",
    "print(my_array.dtype)\n",
    "print(my_array.dtype.itemsize)"
   ]
  },
  {
   "cell_type": "code",
   "execution_count": 3,
   "id": "8d45f57a",
   "metadata": {},
   "outputs": [
    {
     "name": "stdout",
     "output_type": "stream",
     "text": [
      "['Red' 'Green' 'Orange']\n",
      "<U6\n",
      "24\n"
     ]
    }
   ],
   "source": [
    "import numpy as np\n",
    "my_array=np.array([\"Red\",\"Green\",\"Orange\"])\n",
    "print(my_array)\n",
    "print(my_array.dtype)\n",
    "print(my_array.dtype.itemsize)"
   ]
  },
  {
   "cell_type": "code",
   "execution_count": 4,
   "id": "16532805",
   "metadata": {},
   "outputs": [
    {
     "name": "stdout",
     "output_type": "stream",
     "text": [
      "['1990-10-04' '1989-05-06' '1990-11-04']\n",
      "<U10\n",
      "40\n"
     ]
    }
   ],
   "source": [
    "import numpy as np\n",
    "my_array=np.array([\"1990-10-04\",\"1989-05-06\",\"1990-11-04\"])\n",
    "print(my_array)\n",
    "print(my_array.dtype)\n",
    "print(my_array.dtype.itemsize)"
   ]
  },
  {
   "cell_type": "code",
   "execution_count": 6,
   "id": "d687fc12",
   "metadata": {},
   "outputs": [
    {
     "name": "stdout",
     "output_type": "stream",
     "text": [
      "datetime64[D]\n",
      "8\n"
     ]
    }
   ],
   "source": [
    "my_array3=my_array.astype(\"M\")\n",
    "print(my_array3.dtype)\n",
    "print(my_array3.dtype.itemsize)"
   ]
  },
  {
   "cell_type": "code",
   "execution_count": 7,
   "id": "a68848d1",
   "metadata": {},
   "outputs": [
    {
     "name": "stdout",
     "output_type": "stream",
     "text": [
      "['1990-10-04' '1989-05-06' '1990-11-04']\n",
      "datetime64[D]\n",
      "8\n"
     ]
    }
   ],
   "source": [
    "import numpy as np\n",
    "my_array=np.array([\"1990-10-04\",\"1989-05-06\",\"1990-11-04\"], dtype=\"M\")\n",
    "print(my_array)\n",
    "print(my_array.dtype)\n",
    "print(my_array.dtype.itemsize)"
   ]
  },
  {
   "cell_type": "code",
   "execution_count": 8,
   "id": "de692f62",
   "metadata": {},
   "outputs": [
    {
     "name": "stdout",
     "output_type": "stream",
     "text": [
      "[ 5  7  9 11]\n"
     ]
    }
   ],
   "source": [
    "nums_arr= np.arange(5,12,2)\n",
    "print(nums_arr)"
   ]
  },
  {
   "cell_type": "code",
   "execution_count": 9,
   "id": "c70971a1",
   "metadata": {},
   "outputs": [
    {
     "data": {
      "text/plain": [
       "array([1., 1., 1., 1., 1., 1., 1.])"
      ]
     },
     "execution_count": 9,
     "metadata": {},
     "output_type": "execute_result"
    }
   ],
   "source": [
    "ones=np.ones(7)\n",
    "ones"
   ]
  },
  {
   "cell_type": "code",
   "execution_count": 12,
   "id": "82bb6b63",
   "metadata": {},
   "outputs": [
    {
     "data": {
      "text/plain": [
       "array([[1., 1., 1., 1.],\n",
       "       [1., 1., 1., 1.],\n",
       "       [1., 1., 1., 1.],\n",
       "       [1., 1., 1., 1.]])"
      ]
     },
     "execution_count": 12,
     "metadata": {},
     "output_type": "execute_result"
    }
   ],
   "source": [
    "# We also can create two dimension array using ones, given below :-\n",
    "\n",
    "ones_2=np.ones((4,4))\n",
    "ones_2"
   ]
  },
  {
   "cell_type": "code",
   "execution_count": 13,
   "id": "5e29aaf3",
   "metadata": {},
   "outputs": [
    {
     "data": {
      "text/plain": [
       "array([0., 0., 0., 0., 0.])"
      ]
     },
     "execution_count": 13,
     "metadata": {},
     "output_type": "execute_result"
    }
   ],
   "source": [
    "# Zeros() method is used to create a numpy array of zeros, given below :-\n",
    "\n",
    "zero_array=np.zeros(5)\n",
    "zero_array"
   ]
  },
  {
   "cell_type": "code",
   "execution_count": 15,
   "id": "1ef9049c",
   "metadata": {},
   "outputs": [
    {
     "name": "stdout",
     "output_type": "stream",
     "text": [
      "[[0. 0. 0. 0.]\n",
      " [0. 0. 0. 0.]\n",
      " [0. 0. 0. 0.]\n",
      " [0. 0. 0. 0.]\n",
      " [0. 0. 0. 0.]\n",
      " [0. 0. 0. 0.]]\n"
     ]
    }
   ],
   "source": [
    "# We can also create a two dimensional array using zeroes just to mention row and column mentioned below :-\n",
    "\n",
    "zeros_array = np.zeros((6,4))\n",
    "print(zeros_array)"
   ]
  },
  {
   "cell_type": "code",
   "execution_count": 17,
   "id": "6c62e531",
   "metadata": {},
   "outputs": [
    {
     "name": "stdout",
     "output_type": "stream",
     "text": [
      "[49 37 33 38 35]\n"
     ]
    }
   ],
   "source": [
    "# random.randint() method is used to create a numpy array with random integars between a certain range. \n",
    "# The first perimiter specifies the lower bound whereas second parameter specifies the upper bound and \n",
    "# The last parameter specifies the number of random integars to generate between the range.\n",
    "\n",
    "integer_random=np.random.randint(10,50,5)\n",
    "print(integer_random)"
   ]
  },
  {
   "cell_type": "code",
   "execution_count": 19,
   "id": "bd625f28",
   "metadata": {},
   "outputs": [
    {
     "name": "stdout",
     "output_type": "stream",
     "text": [
      "2\n",
      "(6, 4)\n"
     ]
    }
   ],
   "source": [
    "# ndim is used to see the dimension of that array and for shape, shape attribute is used.\n",
    "\n",
    "print(zeros_array.ndim)\n",
    "print(zeros_array.shape)"
   ]
  },
  {
   "cell_type": "code",
   "execution_count": 20,
   "id": "a5c4307b",
   "metadata": {},
   "outputs": [
    {
     "name": "stdout",
     "output_type": "stream",
     "text": [
      "[0. 0. 0. 0.]\n",
      "[0. 0. 0. 0.]\n",
      "[0. 0. 0. 0.]\n",
      "[0. 0. 0. 0.]\n",
      "[0. 0. 0. 0.]\n",
      "[0. 0. 0. 0.]\n"
     ]
    }
   ],
   "source": [
    "for i in zeros_array:\n",
    "    print(i)"
   ]
  },
  {
   "cell_type": "code",
   "execution_count": 21,
   "id": "eacaef3d",
   "metadata": {},
   "outputs": [
    {
     "name": "stdout",
     "output_type": "stream",
     "text": [
      "[[ 8  9  8  7  7]\n",
      " [ 6  6  2 10  1]\n",
      " [ 7  3  9  2  8]\n",
      " [ 6  3  2  6  4]]\n"
     ]
    }
   ],
   "source": [
    "# The below script creates a two dimensional numpy array with four rows and\n",
    "# five columns. The array contains random inegers between 1 and 10.\n",
    "\n",
    "integer_random = np.random.randint(1,11, size=(4,5))\n",
    "print(integer_random)"
   ]
  },
  {
   "cell_type": "code",
   "execution_count": null,
   "id": "2ee9342b",
   "metadata": {},
   "outputs": [],
   "source": []
  }
 ],
 "metadata": {
  "kernelspec": {
   "display_name": "Python 3 (ipykernel)",
   "language": "python",
   "name": "python3"
  },
  "language_info": {
   "codemirror_mode": {
    "name": "ipython",
    "version": 3
   },
   "file_extension": ".py",
   "mimetype": "text/x-python",
   "name": "python",
   "nbconvert_exporter": "python",
   "pygments_lexer": "ipython3",
   "version": "3.9.12"
  }
 },
 "nbformat": 4,
 "nbformat_minor": 5
}
