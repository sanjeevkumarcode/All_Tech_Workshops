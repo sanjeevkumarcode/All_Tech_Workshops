{
 "cells": [
  {
   "cell_type": "markdown",
   "id": "4605b728",
   "metadata": {},
   "source": [
    "# Creating connection"
   ]
  },
  {
   "cell_type": "code",
   "execution_count": 1,
   "id": "4c9dbc71",
   "metadata": {},
   "outputs": [
    {
     "name": "stdout",
     "output_type": "stream",
     "text": [
      "<mysql.connector.connection_cext.CMySQLConnection object at 0x00000212DBC4EAC0>\n"
     ]
    }
   ],
   "source": [
    "### creating sql connection\n",
    "\n",
    "import mysql.connector as sql\n",
    "\n",
    "connection=sql.connect(\n",
    "host=\"localhost\",\n",
    "user=\"root\",\n",
    "password=\"Dhiwarbarh7#\"\n",
    ")\n",
    "\n",
    "print(connection)"
   ]
  },
  {
   "cell_type": "markdown",
   "id": "fe785214",
   "metadata": {},
   "source": [
    "# Performing operations on database"
   ]
  },
  {
   "cell_type": "code",
   "execution_count": 3,
   "id": "95875c7a",
   "metadata": {},
   "outputs": [],
   "source": [
    "cursor= connection.cursor()\n",
    "\n",
    "cursor.execute(\"CREATE DATABASE students\")"
   ]
  },
  {
   "cell_type": "code",
   "execution_count": 34,
   "id": "56381790",
   "metadata": {},
   "outputs": [],
   "source": [
    "cursor.execute(\"DROP DATABASE SANJEEV\")"
   ]
  },
  {
   "cell_type": "code",
   "execution_count": 4,
   "id": "522ba101",
   "metadata": {},
   "outputs": [],
   "source": [
    "cursor.execute(\"SHOW DATABASES\")"
   ]
  },
  {
   "cell_type": "code",
   "execution_count": 5,
   "id": "f7ebcfa9",
   "metadata": {},
   "outputs": [
    {
     "name": "stdout",
     "output_type": "stream",
     "text": [
      "('ineuron_fsda',)\n",
      "('information_schema',)\n",
      "('mydatabase',)\n",
      "('mysql',)\n",
      "('performance_schema',)\n",
      "('sales',)\n",
      "('sanjeev4',)\n",
      "('student',)\n",
      "('students',)\n"
     ]
    }
   ],
   "source": [
    "for x in cursor:\n",
    "    print(x)"
   ]
  }
 ],
 "metadata": {
  "kernelspec": {
   "display_name": "Python 3 (ipykernel)",
   "language": "python",
   "name": "python3"
  },
  "language_info": {
   "codemirror_mode": {
    "name": "ipython",
    "version": 3
   },
   "file_extension": ".py",
   "mimetype": "text/x-python",
   "name": "python",
   "nbconvert_exporter": "python",
   "pygments_lexer": "ipython3",
   "version": "3.9.12"
  }
 },
 "nbformat": 4,
 "nbformat_minor": 5
}
