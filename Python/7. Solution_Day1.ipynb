{
 "cells": [
  {
   "cell_type": "markdown",
   "id": "048a1071",
   "metadata": {},
   "source": [
    "## Day-1"
   ]
  },
  {
   "cell_type": "code",
   "execution_count": 2,
   "id": "5681043b",
   "metadata": {},
   "outputs": [],
   "source": [
    "s = \"this is My First Python programming class and i am learNING python string and its function\""
   ]
  },
  {
   "cell_type": "markdown",
   "id": "8f012eb2",
   "metadata": {},
   "source": [
    "### 1. Try to extract data from index one to index 300 with a jump of 3."
   ]
  },
  {
   "cell_type": "code",
   "execution_count": 3,
   "id": "b94c3908",
   "metadata": {},
   "outputs": [
    {
     "data": {
      "text/plain": [
       "'tssyityopgmncsa alrNph rgni ni'"
      ]
     },
     "execution_count": 3,
     "metadata": {},
     "output_type": "execute_result"
    }
   ],
   "source": [
    "s[0:300:3]"
   ]
  },
  {
   "cell_type": "markdown",
   "id": "a8a10e41",
   "metadata": {},
   "source": [
    "### 2. Try to reverse a string without using reverse function."
   ]
  },
  {
   "cell_type": "code",
   "execution_count": 4,
   "id": "92226cd6",
   "metadata": {},
   "outputs": [
    {
     "data": {
      "text/plain": [
       "'noitcnuf sti dna gnirts nohtyp GNINrael ma i dna ssalc gnimmargorp nohtyP tsriF yM si siht'"
      ]
     },
     "execution_count": 4,
     "metadata": {},
     "output_type": "execute_result"
    }
   ],
   "source": [
    "s[::-1]"
   ]
  },
  {
   "cell_type": "markdown",
   "id": "79f5a749",
   "metadata": {},
   "source": [
    "### 3. Try to split a string after conversion of entire string in uppercase."
   ]
  },
  {
   "cell_type": "code",
   "execution_count": 5,
   "id": "8a157246",
   "metadata": {},
   "outputs": [
    {
     "data": {
      "text/plain": [
       "['THIS',\n",
       " 'IS',\n",
       " 'MY',\n",
       " 'FIRST',\n",
       " 'PYTHON',\n",
       " 'PROGRAMMING',\n",
       " 'CLASS',\n",
       " 'AND',\n",
       " 'I',\n",
       " 'AM',\n",
       " 'LEARNING',\n",
       " 'PYTHON',\n",
       " 'STRING',\n",
       " 'AND',\n",
       " 'ITS',\n",
       " 'FUNCTION']"
      ]
     },
     "execution_count": 5,
     "metadata": {},
     "output_type": "execute_result"
    }
   ],
   "source": [
    "s1=s.upper()\n",
    "s1.split()"
   ]
  },
  {
   "cell_type": "code",
   "execution_count": 6,
   "id": "38b70e1b",
   "metadata": {},
   "outputs": [
    {
     "data": {
      "text/plain": [
       "['THIS',\n",
       " 'IS',\n",
       " 'MY',\n",
       " 'FIRST',\n",
       " 'PYTHON',\n",
       " 'PROGRAMMING',\n",
       " 'CLASS',\n",
       " 'AND',\n",
       " 'I',\n",
       " 'AM',\n",
       " 'LEARNING',\n",
       " 'PYTHON',\n",
       " 'STRING',\n",
       " 'AND',\n",
       " 'ITS',\n",
       " 'FUNCTION']"
      ]
     },
     "execution_count": 6,
     "metadata": {},
     "output_type": "execute_result"
    }
   ],
   "source": [
    "s.upper().split()"
   ]
  },
  {
   "cell_type": "markdown",
   "id": "f7ff2860",
   "metadata": {},
   "source": [
    "### 4. Try to convert the whole string into lower case."
   ]
  },
  {
   "cell_type": "code",
   "execution_count": 7,
   "id": "7d00d61b",
   "metadata": {},
   "outputs": [
    {
     "data": {
      "text/plain": [
       "'this is my first python programming class and i am learning python string and its function'"
      ]
     },
     "execution_count": 7,
     "metadata": {},
     "output_type": "execute_result"
    }
   ],
   "source": [
    "s.lower()"
   ]
  },
  {
   "cell_type": "markdown",
   "id": "84e2d970",
   "metadata": {},
   "source": [
    "### 5 . Try to capitalize the whole string."
   ]
  },
  {
   "cell_type": "code",
   "execution_count": 8,
   "id": "255ddd2e",
   "metadata": {},
   "outputs": [
    {
     "data": {
      "text/plain": [
       "'This is my first python programming class and i am learning python string and its function'"
      ]
     },
     "execution_count": 8,
     "metadata": {},
     "output_type": "execute_result"
    }
   ],
   "source": [
    "s.capitalize()"
   ]
  },
  {
   "cell_type": "markdown",
   "id": "705890bc",
   "metadata": {},
   "source": [
    "### 6. Write a diference between isalnum() and isalpha()."
   ]
  },
  {
   "cell_type": "code",
   "execution_count": 13,
   "id": "5d9fbf66",
   "metadata": {},
   "outputs": [
    {
     "data": {
      "text/plain": [
       "True"
      ]
     },
     "execution_count": 13,
     "metadata": {},
     "output_type": "execute_result"
    }
   ],
   "source": [
    "#The isalnum () method returns True if all the characters are alphanumeric, meaning alphabet letter (a-z) and numbers (0-9). \n",
    "\n",
    "s1=\"sanj123\"\n",
    "s1.isalnum()"
   ]
  },
  {
   "cell_type": "code",
   "execution_count": 14,
   "id": "28f52b37",
   "metadata": {},
   "outputs": [
    {
     "data": {
      "text/plain": [
       "True"
      ]
     },
     "execution_count": 14,
     "metadata": {},
     "output_type": "execute_result"
    }
   ],
   "source": [
    "# isalpha () methods returns “True” if all characters in the string are alphabets, Otherwise, It returns “False”.\n",
    "\n",
    "s2='sanjeeV'\n",
    "s2.isalpha()"
   ]
  },
  {
   "cell_type": "markdown",
   "id": "4f59bac1",
   "metadata": {},
   "source": [
    "### 7. Try to give an example of expand tab."
   ]
  },
  {
   "cell_type": "code",
   "execution_count": 15,
   "id": "bab5e69a",
   "metadata": {},
   "outputs": [
    {
     "data": {
      "text/plain": [
       "'xyzyu   12345   abc'"
      ]
     },
     "execution_count": 15,
     "metadata": {},
     "output_type": "execute_result"
    }
   ],
   "source": [
    "#Python String expandtabs () method returns the number of occurrences of a specified value in a string.\n",
    "\n",
    "s4 = \"xyzyu\\t12345\\tabc\"\n",
    "s4.expandtabs()"
   ]
  },
  {
   "cell_type": "markdown",
   "id": "0824eebb",
   "metadata": {},
   "source": [
    "### 8. Give an example of strip , lstrip and rstrip."
   ]
  },
  {
   "cell_type": "code",
   "execution_count": 16,
   "id": "f12aa99e",
   "metadata": {},
   "outputs": [],
   "source": [
    "s5=\"       sanj           \""
   ]
  },
  {
   "cell_type": "code",
   "execution_count": 17,
   "id": "4935c742",
   "metadata": {},
   "outputs": [
    {
     "data": {
      "text/plain": [
       "'sanj'"
      ]
     },
     "execution_count": 17,
     "metadata": {},
     "output_type": "execute_result"
    }
   ],
   "source": [
    "s5.strip()"
   ]
  },
  {
   "cell_type": "code",
   "execution_count": 18,
   "id": "5d72304d",
   "metadata": {},
   "outputs": [
    {
     "data": {
      "text/plain": [
       "'sanj           '"
      ]
     },
     "execution_count": 18,
     "metadata": {},
     "output_type": "execute_result"
    }
   ],
   "source": [
    "s5.lstrip()"
   ]
  },
  {
   "cell_type": "code",
   "execution_count": 19,
   "id": "a24c8572",
   "metadata": {},
   "outputs": [
    {
     "data": {
      "text/plain": [
       "'       sanj'"
      ]
     },
     "execution_count": 19,
     "metadata": {},
     "output_type": "execute_result"
    }
   ],
   "source": [
    "s5.rstrip()"
   ]
  },
  {
   "cell_type": "markdown",
   "id": "7854b321",
   "metadata": {},
   "source": [
    "### 9. Replace a string charecter by another charector by taking your own example \"sudhanshu\"."
   ]
  },
  {
   "cell_type": "code",
   "execution_count": 20,
   "id": "09f2d6c0",
   "metadata": {},
   "outputs": [
    {
     "data": {
      "text/plain": [
       "'Cold container'"
      ]
     },
     "execution_count": 20,
     "metadata": {},
     "output_type": "execute_result"
    }
   ],
   "source": [
    "ad = \"Cold storage\"    \n",
    "ad.replace(\"storage\" , \"container\")"
   ]
  },
  {
   "cell_type": "code",
   "execution_count": 21,
   "id": "e70f7b50",
   "metadata": {},
   "outputs": [
    {
     "data": {
      "text/plain": [
       "'Sanjeev Singh'"
      ]
     },
     "execution_count": 21,
     "metadata": {},
     "output_type": "execute_result"
    }
   ],
   "source": [
    "ad1= \"Sanjeev Kumar\"\n",
    "ad1.replace(\"Kumar\",\"Singh\")"
   ]
  },
  {
   "cell_type": "markdown",
   "id": "79a56616",
   "metadata": {},
   "source": [
    "### 10. Try to give a definition of string center function with and exmple."
   ]
  },
  {
   "cell_type": "code",
   "execution_count": 22,
   "id": "36a35bb3",
   "metadata": {},
   "outputs": [
    {
     "data": {
      "text/plain": [
       "'*Sanjeev**'"
      ]
     },
     "execution_count": 22,
     "metadata": {},
     "output_type": "execute_result"
    }
   ],
   "source": [
    "a = \"Sanjeev\"\n",
    "a.center(10,\"*\")"
   ]
  },
  {
   "cell_type": "markdown",
   "id": "a8d7d576",
   "metadata": {},
   "source": [
    "### 11. Write your own definition of compiler and interpretor without copy paste form internet in your own language."
   ]
  },
  {
   "cell_type": "markdown",
   "id": "41528552",
   "metadata": {},
   "source": [
    "Difference - Compiler executes the whole code in one turn whereas Interpretor executes the code line by line.\n",
    "\n",
    "By The Way, We use both compilers and interpreters to convert the language we wrote the code in to binary language\n",
    "so machine can understand"
   ]
  },
  {
   "cell_type": "markdown",
   "id": "77b21897",
   "metadata": {},
   "source": [
    "### 12. Try to write a usecase of python with your understanding."
   ]
  },
  {
   "cell_type": "markdown",
   "id": "5ac83d1f",
   "metadata": {},
   "source": [
    "Python is commonly used for :- \n",
    "a) Web Development\n",
    "b) Machine Learning\n",
    "c) Data Visualization\n",
    "d) Data Science\n",
    "e) Robotics."
   ]
  },
  {
   "cell_type": "markdown",
   "id": "b029764d",
   "metadata": {},
   "source": [
    "## Day-2"
   ]
  },
  {
   "cell_type": "code",
   "execution_count": 37,
   "id": "426cb049",
   "metadata": {},
   "outputs": [],
   "source": [
    "l = [3,4,5,6,7 , [23,456,67,8,78,78] , [345,56,87,8,98,9] , (234,6657,6) , {\"key1\" :\"sudh\" , 234:[23,45,656]}]"
   ]
  },
  {
   "cell_type": "markdown",
   "id": "a01edfa4",
   "metadata": {},
   "source": [
    "### 13. Try to reverse a list."
   ]
  },
  {
   "cell_type": "code",
   "execution_count": 26,
   "id": "03454ee9",
   "metadata": {},
   "outputs": [
    {
     "data": {
      "text/plain": [
       "[{'key1': 'sudh', 234: [23, 45, 656]},\n",
       " (234, 6657, 6),\n",
       " [345, 56, 87, 8, 98, 9],\n",
       " [23, 456, 67, 8, 78, 78],\n",
       " 7,\n",
       " 6,\n",
       " 5,\n",
       " 4,\n",
       " 3]"
      ]
     },
     "execution_count": 26,
     "metadata": {},
     "output_type": "execute_result"
    }
   ],
   "source": [
    "l[::-1]"
   ]
  },
  {
   "cell_type": "markdown",
   "id": "f1e493d7",
   "metadata": {},
   "source": [
    "### 14. Try to access 234 out of this list. "
   ]
  },
  {
   "cell_type": "code",
   "execution_count": 29,
   "id": "873f2ff8",
   "metadata": {},
   "outputs": [
    {
     "data": {
      "text/plain": [
       "234"
      ]
     },
     "execution_count": 29,
     "metadata": {},
     "output_type": "execute_result"
    }
   ],
   "source": [
    "l[7][0]"
   ]
  },
  {
   "cell_type": "markdown",
   "id": "40fc19fd",
   "metadata": {},
   "source": [
    "### 15. Try to access 456."
   ]
  },
  {
   "cell_type": "code",
   "execution_count": 34,
   "id": "e107f638",
   "metadata": {},
   "outputs": [
    {
     "data": {
      "text/plain": [
       "[{'key1': 'sudh', 234: [23, 45, 656]},\n",
       " (234, 6657, 6),\n",
       " [345, 56, 87, 8, 98, 9],\n",
       " [23, 456, 67, 8, 78, 78],\n",
       " 7,\n",
       " 6,\n",
       " 5,\n",
       " 4,\n",
       " 3]"
      ]
     },
     "execution_count": 34,
     "metadata": {},
     "output_type": "execute_result"
    }
   ],
   "source": [
    "l"
   ]
  },
  {
   "cell_type": "code",
   "execution_count": 39,
   "id": "24584ea2",
   "metadata": {},
   "outputs": [
    {
     "data": {
      "text/plain": [
       "456"
      ]
     },
     "execution_count": 39,
     "metadata": {},
     "output_type": "execute_result"
    }
   ],
   "source": [
    "l[5][1]"
   ]
  },
  {
   "cell_type": "markdown",
   "id": "7527470b",
   "metadata": {},
   "source": [
    "### 16. Try to extract only a list collection form list l."
   ]
  },
  {
   "cell_type": "code",
   "execution_count": 40,
   "id": "2b694464",
   "metadata": {},
   "outputs": [
    {
     "data": {
      "text/plain": [
       "[[23, 456, 67, 8, 78, 78], [345, 56, 87, 8, 98, 9]]"
      ]
     },
     "execution_count": 40,
     "metadata": {},
     "output_type": "execute_result"
    }
   ],
   "source": [
    "l[5:7]"
   ]
  },
  {
   "cell_type": "code",
   "execution_count": 41,
   "id": "b5ac29b9",
   "metadata": {},
   "outputs": [
    {
     "data": {
      "text/plain": [
       "[23, 456, 67, 8, 78, 78]"
      ]
     },
     "execution_count": 41,
     "metadata": {},
     "output_type": "execute_result"
    }
   ],
   "source": [
    "l[5]"
   ]
  },
  {
   "cell_type": "markdown",
   "id": "7663dd2a",
   "metadata": {},
   "source": [
    "### 17. Try to extract \"sudh\"."
   ]
  },
  {
   "cell_type": "code",
   "execution_count": 42,
   "id": "512e115d",
   "metadata": {},
   "outputs": [
    {
     "data": {
      "text/plain": [
       "'sudh'"
      ]
     },
     "execution_count": 42,
     "metadata": {},
     "output_type": "execute_result"
    }
   ],
   "source": [
    "l[8]['key1']"
   ]
  },
  {
   "cell_type": "markdown",
   "id": "bc37fead",
   "metadata": {},
   "source": [
    "### 18. Try to list all the key in dict element avaible in list."
   ]
  },
  {
   "cell_type": "code",
   "execution_count": 43,
   "id": "703d1960",
   "metadata": {},
   "outputs": [
    {
     "data": {
      "text/plain": [
       "['key1', 234]"
      ]
     },
     "execution_count": 43,
     "metadata": {},
     "output_type": "execute_result"
    }
   ],
   "source": [
    "list(l[8].keys())"
   ]
  },
  {
   "cell_type": "markdown",
   "id": "19d9ebd6",
   "metadata": {},
   "source": [
    "### 19. Try to extract all the value element form dict available in list."
   ]
  },
  {
   "cell_type": "code",
   "execution_count": 44,
   "id": "3ab2db70",
   "metadata": {},
   "outputs": [
    {
     "data": {
      "text/plain": [
       "['sudh', [23, 45, 656]]"
      ]
     },
     "execution_count": 44,
     "metadata": {},
     "output_type": "execute_result"
    }
   ],
   "source": [
    "list(l[8].values())"
   ]
  },
  {
   "cell_type": "markdown",
   "id": "2b74e476",
   "metadata": {},
   "source": [
    "# Day-3"
   ]
  },
  {
   "cell_type": "markdown",
   "id": "87a33f5c",
   "metadata": {},
   "source": [
    "#### 20. \n",
    "    ineruon \n",
    "    ineruon ineruon \n",
    "    ineruon ineruon ineruon\n",
    "    ineruon ineruon ineruon ineruon"
   ]
  },
  {
   "cell_type": "code",
   "execution_count": 57,
   "id": "ef6c1df8",
   "metadata": {},
   "outputs": [
    {
     "name": "stdout",
     "output_type": "stream",
     "text": [
      "ineuron   \n",
      "\n",
      "ineuron   ineuron   \n",
      "\n",
      "ineuron   ineuron   ineuron   \n",
      "\n",
      "ineuron   ineuron   ineuron   ineuron   \n",
      "\n"
     ]
    }
   ],
   "source": [
    "for i in range(4) :\n",
    "    for j in range(0 ,i+1) : \n",
    "        print(\"ineuron\" , end = \"   \")\n",
    "    print(\"\\n\")"
   ]
  },
  {
   "cell_type": "markdown",
   "id": "2515b0e6",
   "metadata": {},
   "source": [
    "### 21.\n",
    "         ineruon\n",
    "    ineruon      ineruon\n",
    "ineruon\t\tineruon \tineruon\n",
    "\tineruon\t\t ineruon\n",
    "\t\t  ineruon\n"
   ]
  },
  {
   "cell_type": "code",
   "execution_count": 58,
   "id": "43240bb1",
   "metadata": {},
   "outputs": [
    {
     "name": "stdout",
     "output_type": "stream",
     "text": [
      "                              \n",
      "           ineuron            \n",
      "       ineuron ineuron        \n",
      "   ineuron ineuron ineuron    \n",
      "       ineuron ineuron        \n",
      "           ineuron            \n"
     ]
    }
   ],
   "source": [
    "for i in range(6):\n",
    "    if i <= 3:\n",
    "        n = i\n",
    "    else:\n",
    "        n = 6 - i\n",
    "    print((\"ineuron \"*n).center(30,' '))"
   ]
  },
  {
   "cell_type": "code",
   "execution_count": 59,
   "id": "0891cecf",
   "metadata": {},
   "outputs": [],
   "source": [
    "l = [[1,2,3,4] , (2,3,4,5,6) , (3,4,5,6,7) , set([23,4,5,45,4,4,5,45,45,4,5]) , {'k1' :\"sudh\" , \"k2\" : \"ineuron\",\"k3\":\n",
    "            \"kumar\" , 3:6 , 7:8} , [\"ineuron\" , \"data science \"]]"
   ]
  },
  {
   "cell_type": "code",
   "execution_count": 60,
   "id": "8e6464e3",
   "metadata": {},
   "outputs": [
    {
     "data": {
      "text/plain": [
       "[[1, 2, 3, 4],\n",
       " (2, 3, 4, 5, 6),\n",
       " (3, 4, 5, 6, 7),\n",
       " {4, 5, 23, 45},\n",
       " {'k1': 'sudh', 'k2': 'ineuron', 'k3': 'kumar', 3: 6, 7: 8},\n",
       " ['ineuron', 'data science ']]"
      ]
     },
     "execution_count": 60,
     "metadata": {},
     "output_type": "execute_result"
    }
   ],
   "source": [
    "l"
   ]
  },
  {
   "cell_type": "markdown",
   "id": "dae777fd",
   "metadata": {},
   "source": [
    "### 22. Try to extract all the list entity."
   ]
  },
  {
   "cell_type": "code",
   "execution_count": 61,
   "id": "1f491de4",
   "metadata": {},
   "outputs": [
    {
     "name": "stdout",
     "output_type": "stream",
     "text": [
      "[1, 2, 3, 4]\n",
      "['ineuron', 'data science ']\n"
     ]
    }
   ],
   "source": [
    "for i in l:\n",
    "    if type(i)==list:\n",
    "        print(i)"
   ]
  },
  {
   "cell_type": "markdown",
   "id": "613c8731",
   "metadata": {},
   "source": [
    "### 23. Try to extract all the dict enteties."
   ]
  },
  {
   "cell_type": "code",
   "execution_count": 62,
   "id": "22f9f63c",
   "metadata": {},
   "outputs": [
    {
     "name": "stdout",
     "output_type": "stream",
     "text": [
      "{'k1': 'sudh', 'k2': 'ineuron', 'k3': 'kumar', 3: 6, 7: 8}\n"
     ]
    }
   ],
   "source": [
    "for i in l:\n",
    "    if type(i)==dict:\n",
    "        print(i)"
   ]
  },
  {
   "cell_type": "markdown",
   "id": "51c746b4",
   "metadata": {},
   "source": [
    "### 24. Try to extract all the tuples entities."
   ]
  },
  {
   "cell_type": "code",
   "execution_count": 63,
   "id": "9833cbde",
   "metadata": {},
   "outputs": [
    {
     "name": "stdout",
     "output_type": "stream",
     "text": [
      "(2, 3, 4, 5, 6)\n",
      "(3, 4, 5, 6, 7)\n"
     ]
    }
   ],
   "source": [
    "for i in l:\n",
    "    if type(i)==tuple:\n",
    "        print(i)"
   ]
  },
  {
   "cell_type": "markdown",
   "id": "5f97fda8",
   "metadata": {},
   "source": [
    "### 25. Try to find out number of keys in dict element."
   ]
  },
  {
   "cell_type": "code",
   "execution_count": 64,
   "id": "4bede750",
   "metadata": {},
   "outputs": [
    {
     "data": {
      "text/plain": [
       "[[1, 2, 3, 4],\n",
       " (2, 3, 4, 5, 6),\n",
       " (3, 4, 5, 6, 7),\n",
       " {4, 5, 23, 45},\n",
       " {'k1': 'sudh', 'k2': 'ineuron', 'k3': 'kumar', 3: 6, 7: 8},\n",
       " ['ineuron', 'data science ']]"
      ]
     },
     "execution_count": 64,
     "metadata": {},
     "output_type": "execute_result"
    }
   ],
   "source": [
    "l"
   ]
  },
  {
   "cell_type": "code",
   "execution_count": 65,
   "id": "365cf441",
   "metadata": {},
   "outputs": [
    {
     "name": "stdout",
     "output_type": "stream",
     "text": [
      "5\n"
     ]
    }
   ],
   "source": [
    "for i in l :\n",
    "    if type(i) == dict :\n",
    "        print(len(i))"
   ]
  },
  {
   "cell_type": "markdown",
   "id": "4f167b78",
   "metadata": {},
   "source": [
    "### 26. Try to filter out all the string data."
   ]
  },
  {
   "cell_type": "code",
   "execution_count": 69,
   "id": "c01f3c48",
   "metadata": {},
   "outputs": [],
   "source": [
    "for i in l :\n",
    "    if type(i) == str:\n",
    "        print(i)"
   ]
  },
  {
   "cell_type": "code",
   "execution_count": null,
   "id": "bd77a378",
   "metadata": {},
   "outputs": [],
   "source": []
  }
 ],
 "metadata": {
  "kernelspec": {
   "display_name": "Python 3 (ipykernel)",
   "language": "python",
   "name": "python3"
  },
  "language_info": {
   "codemirror_mode": {
    "name": "ipython",
    "version": 3
   },
   "file_extension": ".py",
   "mimetype": "text/x-python",
   "name": "python",
   "nbconvert_exporter": "python",
   "pygments_lexer": "ipython3",
   "version": "3.9.12"
  }
 },
 "nbformat": 4,
 "nbformat_minor": 5
}
