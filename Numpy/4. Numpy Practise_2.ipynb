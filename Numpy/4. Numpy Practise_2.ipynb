{
 "cells": [
  {
   "cell_type": "markdown",
   "id": "d19a59da",
   "metadata": {},
   "source": [
    "### Numpy_Practise"
   ]
  },
  {
   "cell_type": "markdown",
   "id": "ce9828d7",
   "metadata": {},
   "source": [
    "1. Delete multiple items from an array.\n",
    "2. Delete a row or column from a 2-D array using the delete method.\n",
    "3. To delete a column, you can set the value of the axis attribute to 1.\n",
    "4. Sort NumPy arrays of various types.\n",
    "5. Sort a text array with the NumPy sort() method.\n",
    "6. Sort the Boolean arrays in NumPy.\n",
    "7. Sort two-dimensional arrays.\n",
    "8. Sort an array in descending order.\n",
    "9. Modify the shape of a NumPy array."
   ]
  },
  {
   "cell_type": "code",
   "execution_count": 1,
   "id": "701c9a11",
   "metadata": {},
   "outputs": [
    {
     "name": "stdout",
     "output_type": "stream",
     "text": [
      "['Red' 'Green' 'Orange']\n",
      "After deletion\n",
      "['Red']\n"
     ]
    }
   ],
   "source": [
    "# If you want to deleter multiple items for an arry just pass the iterm index in the form of a list to the delete() method.\n",
    "\n",
    "import numpy as np\n",
    "my_array = np.array([\"Red\",\"Green\",\"Orange\"])\n",
    "print(my_array)\n",
    "print(\"After deletion\")\n",
    "updated_array = np.delete(my_array, [1,2])\n",
    "print(updated_array)"
   ]
  },
  {
   "cell_type": "code",
   "execution_count": 2,
   "id": "5c7dbd60",
   "metadata": {},
   "outputs": [
    {
     "name": "stdout",
     "output_type": "stream",
     "text": [
      "[[ 5  1  5  1  3]\n",
      " [ 3 10  9  3  1]\n",
      " [ 7  2  8  9  2]\n",
      " [ 1  7  8  6  1]]\n",
      "After deletion\n",
      "[[5 1 5 1 3]\n",
      " [7 2 8 9 2]\n",
      " [1 7 8 6 1]]\n"
     ]
    }
   ],
   "source": [
    "import numpy as np\n",
    "integar_random = np.random.randint(1,11, size=(4,5))\n",
    "print(integar_random)\n",
    "print(\"After deletion\")\n",
    "updated_array = np.delete(integar_random,1,axis=0 )\n",
    "print(updated_array)"
   ]
  },
  {
   "cell_type": "code",
   "execution_count": 3,
   "id": "52afab0d",
   "metadata": {},
   "outputs": [
    {
     "name": "stdout",
     "output_type": "stream",
     "text": [
      "[[ 6  1  4  5  9]\n",
      " [10  2  8  4  4]\n",
      " [ 8  1 10 10  6]\n",
      " [ 1  2  9  7  6]]\n",
      "After deletion\n",
      "[[ 6  4  5  9]\n",
      " [10  8  4  4]\n",
      " [ 8 10 10  6]\n",
      " [ 1  9  7  6]]\n"
     ]
    }
   ],
   "source": [
    "import numpy as np\n",
    "integar_random = np.random.randint(1,11, size=(4,5))\n",
    "print(integar_random)\n",
    "print(\"After deletion\")\n",
    "updated_array = np.delete(integar_random, 1 ,axis=1 )\n",
    "print(updated_array)"
   ]
  },
  {
   "cell_type": "code",
   "execution_count": 4,
   "id": "e5969167",
   "metadata": {},
   "outputs": [
    {
     "name": "stdout",
     "output_type": "stream",
     "text": [
      "unsorted array\n",
      "[15 15  9 12 18 19 11 13 11 19]\n",
      "\n",
      "Sorted array\n",
      "[ 9 11 11 12 13 15 15 18 19 19]\n"
     ]
    }
   ],
   "source": [
    "import numpy as np\n",
    "print(\"unsorted array\")\n",
    "integar_random = np.random.randint(1,20,10)\n",
    "print(integar_random)\n",
    "print(\"\\nSorted array\")\n",
    "updated_array = np.sort(integar_random)\n",
    "print(updated_array)"
   ]
  },
  {
   "cell_type": "code",
   "execution_count": 5,
   "id": "7cb79999",
   "metadata": {},
   "outputs": [
    {
     "name": "stdout",
     "output_type": "stream",
     "text": [
      "unsorted array\n",
      "['Red' 'Green' 'Yellow' 'Blue']\n",
      "\n",
      "Sorted array\n",
      "['Blue' 'Green' 'Red' 'Yellow']\n"
     ]
    }
   ],
   "source": [
    "import numpy as np\n",
    "print(\"unsorted array\")\n",
    "my_array = np.array(['Red','Green','Yellow','Blue'])\n",
    "print(my_array)\n",
    "print(\"\\nSorted array\")\n",
    "sorted_array = np.sort(my_array)\n",
    "print(sorted_array)"
   ]
  },
  {
   "cell_type": "code",
   "execution_count": 6,
   "id": "f162643c",
   "metadata": {},
   "outputs": [
    {
     "name": "stdout",
     "output_type": "stream",
     "text": [
      "One dimensional array\n",
      "[ 3  2  8 11 15  7 19 19 12 16]\n",
      "\n",
      "Two dimensional array\n",
      "[[ 3  2  8 11 15]\n",
      " [ 7 19 19 12 16]]\n"
     ]
    }
   ],
   "source": [
    "print(\"One dimensional array\")\n",
    "one_array = np.random.randint(1,20,10)\n",
    "print(one_array)\n",
    "print(\"\\nTwo dimensional array\")\n",
    "two_array = one_array.reshape(2,5)\n",
    "print(two_array)"
   ]
  },
  {
   "cell_type": "markdown",
   "id": "72ccab33",
   "metadata": {},
   "source": [
    "1. To load a NumPy array in the “NPY” format, you can use the load() method.\n",
    "2. If your NumPy array is stored in the text form, you may use the loadtxt() method to load such a NumPy array.\n",
    "3. To find the mean or average of all the items in a NumPy array, you need to pass the array to the mean() method of the NumPy module.\n",
    "4. Find the mean in a two-dimensional NumPy array across rows and columns.\n",
    "5. The median() method from the NumPy module is used to find the median value in a NumPy array.\n",
    "6. To find the median values across columns and rows in a two dimensional array, you need to pass 1 and 0, respectively, as the values for the axis attribute of the median method.\n",
    "7. The max() function returns the maximum value from the array, while the min() function returns the minimum value.\n",
    "8. You can get the minimum values across all rows or columns in a two dimensional NumPy array by passing 0 or 1 as values for the axis attribute of the min() method.\n",
    "9. To get the maximum value from a NumPy array, you may use the max() method.\n",
    "10. You can get the maximum values across all rows or columns in a two-dimensional NumPy array by passing 0 or 1 as values for the axis attribute of the max() method."
   ]
  },
  {
   "cell_type": "code",
   "execution_count": 7,
   "id": "0cdb595d",
   "metadata": {},
   "outputs": [
    {
     "name": "stdout",
     "output_type": "stream",
     "text": [
      "[2 3 4 5 6 7 8]\n",
      "mean:\n",
      "5.0\n"
     ]
    }
   ],
   "source": [
    "import numpy as np\n",
    "my_array = np.array([2,3,4,5,6,7,8])\n",
    "print(my_array)\n",
    "print(\"mean:\")\n",
    "print(np.mean(my_array))"
   ]
  },
  {
   "cell_type": "code",
   "execution_count": 8,
   "id": "f943ebe0",
   "metadata": {},
   "outputs": [
    {
     "name": "stdout",
     "output_type": "stream",
     "text": [
      "[[16  1  8]\n",
      " [ 9  8  5]]\n",
      "mean:\n",
      "[8.33333333 7.33333333]\n",
      "[12.5  4.5  6.5]\n"
     ]
    }
   ],
   "source": [
    "import numpy as np\n",
    "my_array = np.random.randint(1,20, size = (2,3))\n",
    "print(my_array)\n",
    "print(\"mean:\")\n",
    "print(np.mean(my_array, axis = 1))\n",
    "print(np.mean(my_array, axis = 0))"
   ]
  },
  {
   "cell_type": "code",
   "execution_count": 9,
   "id": "21e9255e",
   "metadata": {},
   "outputs": [
    {
     "name": "stdout",
     "output_type": "stream",
     "text": [
      "6.0\n"
     ]
    }
   ],
   "source": [
    "import numpy as np\n",
    "my_array = np.array([2,4,6,8,10])\n",
    "print(np.median(my_array))"
   ]
  },
  {
   "cell_type": "code",
   "execution_count": 10,
   "id": "bc348d32",
   "metadata": {},
   "outputs": [
    {
     "name": "stdout",
     "output_type": "stream",
     "text": [
      "[[ 1  2 11]\n",
      " [ 3 17  5]]\n",
      "median:\n",
      "[2. 5.]\n",
      "[2.  9.5 8. ]\n"
     ]
    }
   ],
   "source": [
    "import numpy as np\n",
    "my_array = np.random.randint(1,20, size = (2,3))\n",
    "print(my_array)\n",
    "print(\"median:\")\n",
    "print(np.median(my_array, axis = 1))\n",
    "print(np.median(my_array, axis = 0))"
   ]
  },
  {
   "cell_type": "code",
   "execution_count": 11,
   "id": "bf31ef1f",
   "metadata": {},
   "outputs": [
    {
     "name": "stdout",
     "output_type": "stream",
     "text": [
      "[ 2  4  6  8 10]\n",
      "min value:\n",
      "2\n"
     ]
    }
   ],
   "source": [
    "import numpy as np\n",
    "my_array = np.array([2,4,6,8,10])\n",
    "print(my_array)\n",
    "print(\"min value:\")\n",
    "print(np.min(my_array))"
   ]
  },
  {
   "cell_type": "code",
   "execution_count": 12,
   "id": "4bb3822f",
   "metadata": {},
   "outputs": [
    {
     "name": "stdout",
     "output_type": "stream",
     "text": [
      "[ 2  4  6  8 10]\n",
      "max value:\n",
      "10\n"
     ]
    }
   ],
   "source": [
    "import numpy as np\n",
    "my_array = np.array([2,4,6,8,10])\n",
    "print(my_array)\n",
    "print(\"max value:\")\n",
    "print(np.max(my_array))"
   ]
  },
  {
   "cell_type": "markdown",
   "id": "5534a133",
   "metadata": {},
   "source": [
    "1. The standard deviation of a NumPy array can be found via the std() method.\n",
    "2. To find the standard deviation across rows and columns in a two-dimensional NumPy array, you need to call the std() method.\n",
    "3. Finally, to find correlations, you can use the correlation() method and pass it the two NumPy arrays between which you want to find the correlation.\n",
    "4. To find unique values in a NumPy array, you need to pass the array to the unique() method from the NumPy module.\n",
    "5. To find the count of every unique item in a NumPy array, you need to pass the array to the unique() method and pass True as the value for the return_counts attribute.\n",
    "6. One way to get the count value against every unique item is to create an array of arrays where the first item is the list of unique items and the second item is the list of counts.\n",
    "7. you can transpose the array that contains the list of unique items and their counts.\n",
    "8. There are two main methods to reverse a NumPy array: flipud() and fliplr().\n",
    "9. To reverse a two-dimensional NumPy array, you can use the fliplr() method."
   ]
  },
  {
   "cell_type": "code",
   "execution_count": 13,
   "id": "5cd1eb22",
   "metadata": {},
   "outputs": [
    {
     "name": "stdout",
     "output_type": "stream",
     "text": [
      "[ 2  4  6  8 10]\n",
      "Standard Deviation\n",
      "2.8284271247461903\n"
     ]
    }
   ],
   "source": [
    "my_array = np.array([2,4,6,8,10])\n",
    "print(my_array)\n",
    "print(\"Standard Deviation\")\n",
    "print(np.std(my_array))"
   ]
  },
  {
   "cell_type": "code",
   "execution_count": 15,
   "id": "d8734ba7",
   "metadata": {},
   "outputs": [
    {
     "name": "stdout",
     "output_type": "stream",
     "text": [
      "[[14  8 16 11]\n",
      " [14 19 15 15]\n",
      " [ 7 19  2  1]]\n",
      "Standard Deviation\n",
      "[3.03108891 1.92028644 7.15454401]\n",
      "[3.29983165 5.18544973 6.37704216 5.88784058]\n"
     ]
    }
   ],
   "source": [
    "import numpy as np\n",
    "my_array = np.random.randint(1,20, size = (3,4))\n",
    "print(my_array)\n",
    "print(\"Standard Deviation\")\n",
    "print(np.std(my_array, axis = 1))\n",
    "print(np.std(my_array, axis = 0))"
   ]
  },
  {
   "cell_type": "code",
   "execution_count": 16,
   "id": "88613dd2",
   "metadata": {},
   "outputs": [
    {
     "name": "stdout",
     "output_type": "stream",
     "text": [
      "[1 2 3 4 5 3]\n",
      "[2 3 1 4 3 5]\n",
      "Correlation value:\n",
      "[57]\n"
     ]
    }
   ],
   "source": [
    "# Correlations() method used to find out correclations.\n",
    "a1 = np.array([1,2,3,4,5,3])\n",
    "a2= np.array([2,3,1,4,3,5])\n",
    "print(a1)\n",
    "print(a2)\n",
    "print(\"Correlation value:\")\n",
    "print(np.correlate(a1,a2))"
   ]
  },
  {
   "cell_type": "code",
   "execution_count": 19,
   "id": "6e7258a4",
   "metadata": {},
   "outputs": [
    {
     "name": "stdout",
     "output_type": "stream",
     "text": [
      "[ 1  2  3  4  5 11 12 13 23 34 43]\n"
     ]
    }
   ],
   "source": [
    "import numpy as np\n",
    "a1 = np.array([12,11,1,2,3,4,5,11,23,34,43,13,23])\n",
    "print(np.unique(a1))"
   ]
  },
  {
   "cell_type": "code",
   "execution_count": 20,
   "id": "3cb8ba7a",
   "metadata": {},
   "outputs": [
    {
     "name": "stdout",
     "output_type": "stream",
     "text": [
      "[ 1  2  3  4  5 11 12 13 23 34 43]\n",
      "[1 1 1 1 1 2 1 1 2 1 1]\n"
     ]
    }
   ],
   "source": [
    "import numpy as np\n",
    "a1 = np.array([12,11,1,2,3,4,5,11,23,34,43,13,23])\n",
    "unique_items, counts = np.unique(a1, return_counts = True)\n",
    "print(np.unique(a1))\n",
    "print(counts)"
   ]
  },
  {
   "cell_type": "code",
   "execution_count": 21,
   "id": "2627f0be",
   "metadata": {},
   "outputs": [
    {
     "name": "stdout",
     "output_type": "stream",
     "text": [
      "Original\n",
      "[17 15 18  9  3 14 18 13  8  1]\n",
      "reversed\n",
      "[ 1  8 13 18 14  3  9 18 15 17]\n"
     ]
    }
   ],
   "source": [
    "import numpy as np\n",
    "print(\"Original\")\n",
    "my_array = np.random.randint(1,20,10)\n",
    "print(my_array)\n",
    "print(\"reversed\")\n",
    "reversed = np.flipud(my_array)\n",
    "print(reversed)"
   ]
  },
  {
   "cell_type": "code",
   "execution_count": null,
   "id": "0f7063e2",
   "metadata": {},
   "outputs": [],
   "source": []
  }
 ],
 "metadata": {
  "kernelspec": {
   "display_name": "Python 3 (ipykernel)",
   "language": "python",
   "name": "python3"
  },
  "language_info": {
   "codemirror_mode": {
    "name": "ipython",
    "version": 3
   },
   "file_extension": ".py",
   "mimetype": "text/x-python",
   "name": "python",
   "nbconvert_exporter": "python",
   "pygments_lexer": "ipython3",
   "version": "3.9.12"
  }
 },
 "nbformat": 4,
 "nbformat_minor": 5
}
