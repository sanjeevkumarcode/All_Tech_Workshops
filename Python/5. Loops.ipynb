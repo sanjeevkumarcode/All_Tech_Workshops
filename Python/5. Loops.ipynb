{
 "cells": [
  {
   "cell_type": "code",
   "execution_count": 1,
   "id": "39fae000",
   "metadata": {},
   "outputs": [],
   "source": [
    "l = [1,2,3,4,\"sanjeev\" ,\"kumar\" , 45.56]"
   ]
  },
  {
   "cell_type": "code",
   "execution_count": 2,
   "id": "8efb4581",
   "metadata": {},
   "outputs": [
    {
     "name": "stdout",
     "output_type": "stream",
     "text": [
      "1\n",
      "2\n",
      "3\n",
      "4\n",
      "sanjeev\n",
      "kumar\n",
      "45.56\n"
     ]
    }
   ],
   "source": [
    "for i in l :\n",
    "    print(i)"
   ]
  },
  {
   "cell_type": "code",
   "execution_count": 3,
   "id": "a3c4aaa1",
   "metadata": {},
   "outputs": [],
   "source": [
    "for i in l :\n",
    "    pass"
   ]
  },
  {
   "cell_type": "code",
   "execution_count": 4,
   "id": "e158d612",
   "metadata": {},
   "outputs": [
    {
     "name": "stdout",
     "output_type": "stream",
     "text": [
      "s\n",
      "u\n",
      "d\n",
      "h\n"
     ]
    }
   ],
   "source": [
    "s = \"sudh\"\n",
    "for i in s :\n",
    "    print(i)"
   ]
  },
  {
   "cell_type": "code",
   "execution_count": 5,
   "id": "0027fea7",
   "metadata": {},
   "outputs": [
    {
     "name": "stdout",
     "output_type": "stream",
     "text": [
      "1\n",
      "2\n",
      "3\n",
      "4\n",
      "sanjeev\n",
      "kumar\n",
      "45.56\n",
      "if for loop is going to complete itself the it will execute else \n"
     ]
    }
   ],
   "source": [
    "for i in l :\n",
    "    print(i)\n",
    "else :\n",
    "    print(\"if for loop is going to complete itself the it will execute else \")"
   ]
  },
  {
   "cell_type": "code",
   "execution_count": 6,
   "id": "d9a80907",
   "metadata": {},
   "outputs": [
    {
     "data": {
      "text/plain": [
       "[1, 2, 3, 4, 'sanjeev', 'kumar', 45.56]"
      ]
     },
     "execution_count": 6,
     "metadata": {},
     "output_type": "execute_result"
    }
   ],
   "source": [
    "l"
   ]
  },
  {
   "cell_type": "code",
   "execution_count": 7,
   "id": "62d285ec",
   "metadata": {},
   "outputs": [
    {
     "name": "stdout",
     "output_type": "stream",
     "text": [
      "1\n",
      "2\n",
      "3\n"
     ]
    }
   ],
   "source": [
    "for i in l :\n",
    "    if i == 4 :\n",
    "        break\n",
    "    print(i)\n",
    "else :\n",
    "    print(\"this will execute only if for is going to complete itself\")"
   ]
  },
  {
   "cell_type": "code",
   "execution_count": 8,
   "id": "3c6cb81e",
   "metadata": {},
   "outputs": [
    {
     "name": "stdout",
     "output_type": "stream",
     "text": [
      "s\n",
      "a\n",
      "n\n",
      "j\n",
      "e\n",
      "e\n",
      "v\n",
      "print srtring  sanjeev\n"
     ]
    }
   ],
   "source": [
    "s = \"sanjeev\"\n",
    "for i in s :\n",
    "    if i == 'z' :\n",
    "        break\n",
    "    print(i)\n",
    "else :\n",
    "    print(\"print srtring \" , s )\n",
    "        "
   ]
  },
  {
   "cell_type": "code",
   "execution_count": 9,
   "id": "c05c6c17",
   "metadata": {},
   "outputs": [
    {
     "name": "stdout",
     "output_type": "stream",
     "text": [
      "4\n",
      "5\n",
      "6\n",
      "7\n",
      "8\n",
      "6\n",
      "sanj\n"
     ]
    }
   ],
   "source": [
    "t = (4,5,6,7,8,6,\"sanj\")\n",
    "for i in t :\n",
    "    print(i)"
   ]
  },
  {
   "cell_type": "code",
   "execution_count": 10,
   "id": "aee7e59b",
   "metadata": {},
   "outputs": [],
   "source": [
    "b = {4,5,6,7,7,7,7,7,7,7,7, 8,\"sanj\"}"
   ]
  },
  {
   "cell_type": "code",
   "execution_count": 11,
   "id": "a124b211",
   "metadata": {},
   "outputs": [
    {
     "data": {
      "text/plain": [
       "set"
      ]
     },
     "execution_count": 11,
     "metadata": {},
     "output_type": "execute_result"
    }
   ],
   "source": [
    "type(b)"
   ]
  },
  {
   "cell_type": "code",
   "execution_count": 12,
   "id": "9e379087",
   "metadata": {},
   "outputs": [
    {
     "data": {
      "text/plain": [
       "{4, 5, 6, 7, 8, 'sanj'}"
      ]
     },
     "execution_count": 12,
     "metadata": {},
     "output_type": "execute_result"
    }
   ],
   "source": [
    "b"
   ]
  },
  {
   "cell_type": "code",
   "execution_count": 13,
   "id": "927717fe",
   "metadata": {},
   "outputs": [
    {
     "name": "stdout",
     "output_type": "stream",
     "text": [
      "4\n",
      "5\n",
      "6\n",
      "7\n",
      "8\n",
      "sanj\n"
     ]
    }
   ],
   "source": [
    "for i in b :\n",
    "    print(i)"
   ]
  },
  {
   "cell_type": "code",
   "execution_count": 14,
   "id": "444d8f49",
   "metadata": {},
   "outputs": [],
   "source": [
    "d = {'key1' :\"sanj\" , 'contact' : \"sanjeev80@gmail.com\" , \"position\" : \"xyz\"}"
   ]
  },
  {
   "cell_type": "code",
   "execution_count": 15,
   "id": "c49b2c4c",
   "metadata": {},
   "outputs": [
    {
     "name": "stdout",
     "output_type": "stream",
     "text": [
      "key1 : sanj\n",
      "contact : sanjeev80@gmail.com\n",
      "position : xyz\n"
     ]
    }
   ],
   "source": [
    "for i in d :\n",
    "    print(i ,\":\" ,  d[i] )"
   ]
  },
  {
   "cell_type": "code",
   "execution_count": 16,
   "id": "94395d44",
   "metadata": {},
   "outputs": [
    {
     "data": {
      "text/plain": [
       "'sanj'"
      ]
     },
     "execution_count": 16,
     "metadata": {},
     "output_type": "execute_result"
    }
   ],
   "source": [
    "d['key1']"
   ]
  },
  {
   "cell_type": "code",
   "execution_count": 17,
   "id": "554220c4",
   "metadata": {},
   "outputs": [
    {
     "data": {
      "text/plain": [
       "range(0, 9)"
      ]
     },
     "execution_count": 17,
     "metadata": {},
     "output_type": "execute_result"
    }
   ],
   "source": [
    "range(9)"
   ]
  },
  {
   "cell_type": "code",
   "execution_count": 18,
   "id": "9203e12d",
   "metadata": {},
   "outputs": [
    {
     "data": {
      "text/plain": [
       "[0, 1, 2, 3, 4, 5, 6, 7, 8]"
      ]
     },
     "execution_count": 18,
     "metadata": {},
     "output_type": "execute_result"
    }
   ],
   "source": [
    "list(range(9))"
   ]
  },
  {
   "cell_type": "code",
   "execution_count": 19,
   "id": "16549fcf",
   "metadata": {},
   "outputs": [
    {
     "name": "stdout",
     "output_type": "stream",
     "text": [
      "0\n",
      "1\n",
      "2\n",
      "3\n",
      "4\n",
      "5\n",
      "6\n",
      "7\n",
      "8\n"
     ]
    }
   ],
   "source": [
    "for i in range(9):\n",
    "    print(i)"
   ]
  },
  {
   "cell_type": "code",
   "execution_count": 20,
   "id": "4753ccf8",
   "metadata": {},
   "outputs": [
    {
     "data": {
      "text/plain": [
       "[0, 1, 2, 3, 4, 5, 6, 7, 8]"
      ]
     },
     "execution_count": 20,
     "metadata": {},
     "output_type": "execute_result"
    }
   ],
   "source": [
    "list(range(0,9))"
   ]
  },
  {
   "cell_type": "code",
   "execution_count": 21,
   "id": "1f883fd8",
   "metadata": {},
   "outputs": [
    {
     "data": {
      "text/plain": [
       "[0, 2, 4, 6, 8]"
      ]
     },
     "execution_count": 21,
     "metadata": {},
     "output_type": "execute_result"
    }
   ],
   "source": [
    "list(range(0,9 , 2))"
   ]
  },
  {
   "cell_type": "code",
   "execution_count": 22,
   "id": "692f4890",
   "metadata": {},
   "outputs": [
    {
     "data": {
      "text/plain": [
       "[]"
      ]
     },
     "execution_count": 22,
     "metadata": {},
     "output_type": "execute_result"
    }
   ],
   "source": [
    "list(range(0,9 , -1))"
   ]
  },
  {
   "cell_type": "code",
   "execution_count": 23,
   "id": "097f8d2e",
   "metadata": {},
   "outputs": [
    {
     "data": {
      "text/plain": [
       "[9, 8, 7, 6, 5, 4, 3, 2, 1]"
      ]
     },
     "execution_count": 23,
     "metadata": {},
     "output_type": "execute_result"
    }
   ],
   "source": [
    "list(range(9,0 , -1))"
   ]
  },
  {
   "cell_type": "code",
   "execution_count": 24,
   "id": "eb744426",
   "metadata": {},
   "outputs": [
    {
     "name": "stdout",
     "output_type": "stream",
     "text": [
      "sanj   \n",
      "\n",
      "sanj   sanj   \n",
      "\n",
      "sanj   sanj   sanj   \n",
      "\n",
      "sanj   sanj   sanj   sanj   \n",
      "\n"
     ]
    }
   ],
   "source": [
    "for i in range(4) :\n",
    "    for j in range(0 ,i+1) : \n",
    "        print(\"sanj\" , end = \"   \")\n",
    "    print(\"\\n\")"
   ]
  },
  {
   "cell_type": "code",
   "execution_count": 25,
   "id": "6d5e1b53",
   "metadata": {},
   "outputs": [
    {
     "name": "stdout",
     "output_type": "stream",
     "text": [
      "          sudh \n",
      "     sudh sudh sudh \n",
      "sudh sudh sudh sudh sudh \n"
     ]
    }
   ],
   "source": [
    "n=3\n",
    "for i in range(n):\n",
    "    for j in range(i,n-1):\n",
    "        print(\" \" * len(\"sudh\"),end=\" \")\n",
    "    for j in range(i+1):\n",
    "        print(\"sudh\",end=\" \")\n",
    "    for j in range(i): \n",
    "        print(\"sudh\",end=\" \")\n",
    "    print()\n"
   ]
  },
  {
   "cell_type": "code",
   "execution_count": 26,
   "id": "539c7a4b",
   "metadata": {},
   "outputs": [
    {
     "name": "stdout",
     "output_type": "stream",
     "text": [
      "      sanj \n",
      "    sanj sanj \n",
      "  sanj sanj sanj \n",
      "sanj sanj sanj sanj \n"
     ]
    }
   ],
   "source": [
    "n=4\n",
    "k=n\n",
    "for i in range(n):\n",
    "    k=k-1\n",
    "    print('  '*k, end='')\n",
    "    for j in range(i+1):\n",
    "        print('sanj ', end= '')\n",
    "    print()\n"
   ]
  },
  {
   "cell_type": "code",
   "execution_count": 27,
   "id": "dc823bf5",
   "metadata": {},
   "outputs": [
    {
     "name": "stdout",
     "output_type": "stream",
     "text": [
      "  sudh \n",
      " sudh sudh \n",
      "sudh sudh sudh \n"
     ]
    }
   ],
   "source": [
    "n=3\n",
    "for i in range(n):\n",
    "    for j in range(i,n-1):\n",
    "        print(\"\",end=' ')\n",
    "    for j in range(i+1):\n",
    "        print(\"sudh\",end=' ')\n",
    "    print()\n"
   ]
  },
  {
   "cell_type": "code",
   "execution_count": 28,
   "id": "5cce0196",
   "metadata": {},
   "outputs": [
    {
     "name": "stdout",
     "output_type": "stream",
     "text": [
      "   \n",
      "  sudh \n",
      " sudh sudh \n",
      "sudh sudh sudh \n"
     ]
    }
   ],
   "source": [
    "n = 3\n",
    "\n",
    "for i in range(n+1):\n",
    "    print(' '*(n-i) + 'sudh '*i)\n"
   ]
  },
  {
   "cell_type": "code",
   "execution_count": 29,
   "id": "1965a936",
   "metadata": {},
   "outputs": [
    {
     "data": {
      "text/plain": [
       "[]"
      ]
     },
     "execution_count": 29,
     "metadata": {},
     "output_type": "execute_result"
    }
   ],
   "source": [
    "list(range(0))"
   ]
  },
  {
   "cell_type": "code",
   "execution_count": 30,
   "id": "ae20e482",
   "metadata": {},
   "outputs": [],
   "source": [
    "t = (3,23,45,67,2,4,5,6)"
   ]
  },
  {
   "cell_type": "code",
   "execution_count": 31,
   "id": "fa3a7dd7",
   "metadata": {},
   "outputs": [
    {
     "data": {
      "text/plain": [
       "3"
      ]
     },
     "execution_count": 31,
     "metadata": {},
     "output_type": "execute_result"
    }
   ],
   "source": [
    "t[0]"
   ]
  },
  {
   "cell_type": "code",
   "execution_count": 32,
   "id": "787cc580",
   "metadata": {},
   "outputs": [
    {
     "name": "stdout",
     "output_type": "stream",
     "text": [
      "0 3\n",
      "1 23\n",
      "2 45\n",
      "3 67\n",
      "4 2\n",
      "5 4\n",
      "6 5\n",
      "7 6\n"
     ]
    }
   ],
   "source": [
    "for i in range(len(t)):\n",
    "    print(i,t[i])"
   ]
  },
  {
   "cell_type": "code",
   "execution_count": 33,
   "id": "d945f1c1",
   "metadata": {},
   "outputs": [
    {
     "data": {
      "text/plain": [
       "[0, 1, 2, 3, 4, 5, 6, 7]"
      ]
     },
     "execution_count": 33,
     "metadata": {},
     "output_type": "execute_result"
    }
   ],
   "source": [
    "list(range(len(t)))"
   ]
  },
  {
   "cell_type": "code",
   "execution_count": 34,
   "id": "45ec0df8",
   "metadata": {},
   "outputs": [
    {
     "name": "stdout",
     "output_type": "stream",
     "text": [
      "0 3\n",
      "1 23\n",
      "2 45\n",
      "3 67\n",
      "4 2\n",
      "5 4\n",
      "6 5\n",
      "7 6\n"
     ]
    }
   ],
   "source": [
    "t = (3,23,45,67,2,4,5,6)\n",
    "\n",
    "for i in range(len(t)):\n",
    "    print(i,t[i])\n"
   ]
  },
  {
   "cell_type": "code",
   "execution_count": 35,
   "id": "f03784cb",
   "metadata": {},
   "outputs": [
    {
     "name": "stdout",
     "output_type": "stream",
     "text": [
      "0 i\n",
      "1 n\n",
      "2 e\n",
      "3 u\n",
      "4 r\n",
      "5 o\n",
      "6 n\n"
     ]
    }
   ],
   "source": [
    "s = \"ineuron\"\n",
    "for i in range(len(s)) : \n",
    "    print(i , s[i])"
   ]
  },
  {
   "cell_type": "code",
   "execution_count": 36,
   "id": "a3373360",
   "metadata": {},
   "outputs": [
    {
     "data": {
      "text/plain": [
       "'ineuron'"
      ]
     },
     "execution_count": 36,
     "metadata": {},
     "output_type": "execute_result"
    }
   ],
   "source": [
    "s "
   ]
  },
  {
   "cell_type": "code",
   "execution_count": 37,
   "id": "c9c66ea9",
   "metadata": {},
   "outputs": [
    {
     "name": "stdout",
     "output_type": "stream",
     "text": [
      "6 n\n",
      "5 o\n",
      "4 r\n",
      "3 u\n",
      "2 e\n",
      "1 n\n",
      "0 i\n"
     ]
    }
   ],
   "source": [
    "for i in range(len(s)-1 , -1, -1):\n",
    "    print(i , s[i])"
   ]
  },
  {
   "cell_type": "code",
   "execution_count": 38,
   "id": "1a11f6a0",
   "metadata": {},
   "outputs": [
    {
     "name": "stdout",
     "output_type": "stream",
     "text": [
      "('key1', 'sanj') <class 'tuple'> <class 'str'>\n",
      "('contact', 'sanjeev80@gmail.com') <class 'tuple'> <class 'str'>\n",
      "('position', 'xyz') <class 'tuple'> <class 'str'>\n"
     ]
    }
   ],
   "source": [
    "for i in d.items():\n",
    "    print(i , type(i) , type(i[1]))"
   ]
  },
  {
   "cell_type": "code",
   "execution_count": 39,
   "id": "27105750",
   "metadata": {},
   "outputs": [],
   "source": [
    "l = [\"sudh\" , \"kuamr\" , 3234545 , \"sudhanshu@ineuron.ai\" , 345, 34345353]\n",
    "l1 = []\n",
    "for i in l :\n",
    "    if type(i) == int :\n",
    "        l1.append(i)"
   ]
  },
  {
   "cell_type": "code",
   "execution_count": 40,
   "id": "b4ac33cc",
   "metadata": {},
   "outputs": [
    {
     "data": {
      "text/plain": [
       "[3234545, 345, 34345353]"
      ]
     },
     "execution_count": 40,
     "metadata": {},
     "output_type": "execute_result"
    }
   ],
   "source": [
    "l1"
   ]
  },
  {
   "cell_type": "code",
   "execution_count": 41,
   "id": "bf54b65b",
   "metadata": {},
   "outputs": [],
   "source": [
    " d = {1: 3345345  , \"name\" : \"sudh\" , \"email_id\" : \"sanjeev80@gmail.com\" , 234 : \"fsfddsf\" , \"43\" : \"sfsaf\" , 234 : \"3454\"}"
   ]
  },
  {
   "cell_type": "code",
   "execution_count": 42,
   "id": "c502d0ca",
   "metadata": {},
   "outputs": [
    {
     "name": "stdout",
     "output_type": "stream",
     "text": [
      "1 : 3345345\n",
      "234 : 3454\n"
     ]
    }
   ],
   "source": [
    "for i in d :\n",
    "    if type(i) == int :\n",
    "        print(i , \":\"  , d[i])"
   ]
  },
  {
   "cell_type": "code",
   "execution_count": 43,
   "id": "bc5be456",
   "metadata": {},
   "outputs": [],
   "source": [
    "s = \"aaaabbccd\""
   ]
  },
  {
   "cell_type": "code",
   "execution_count": 44,
   "id": "b62dc9a2",
   "metadata": {},
   "outputs": [
    {
     "name": "stdout",
     "output_type": "stream",
     "text": [
      "d : 1\n",
      "a : 4\n",
      "c : 2\n",
      "b : 2\n"
     ]
    }
   ],
   "source": [
    "for i in set(s):\n",
    "    print(i  , \":\" , s.count(i))    "
   ]
  },
  {
   "cell_type": "code",
   "execution_count": 45,
   "id": "c2546bb9",
   "metadata": {},
   "outputs": [
    {
     "data": {
      "text/plain": [
       "4"
      ]
     },
     "execution_count": 45,
     "metadata": {},
     "output_type": "execute_result"
    }
   ],
   "source": [
    "s.count('a')"
   ]
  },
  {
   "cell_type": "code",
   "execution_count": 46,
   "id": "35375dc5",
   "metadata": {},
   "outputs": [
    {
     "name": "stdout",
     "output_type": "stream",
     "text": [
      "3 <class 'int'>\n",
      "4 <class 'int'>\n",
      "5 <class 'int'>\n",
      "3 <class 'int'>\n",
      "4 <class 'int'>\n",
      "6 <class 'int'>\n",
      "5 <class 'int'>\n",
      "4 <class 'int'>\n",
      "6 <class 'int'>\n",
      "4 <class 'int'>\n",
      "6 <class 'int'>\n",
      "4 <class 'int'>\n",
      "3 <class 'int'>\n",
      "5 <class 'int'>\n"
     ]
    }
   ],
   "source": [
    "i = 34534654646435\n",
    "for j in str(i) :\n",
    "    print(int(j ), type(int(j)))"
   ]
  },
  {
   "cell_type": "code",
   "execution_count": 47,
   "id": "1a78889b",
   "metadata": {},
   "outputs": [
    {
     "data": {
      "text/plain": [
       "'34534654646435'"
      ]
     },
     "execution_count": 47,
     "metadata": {},
     "output_type": "execute_result"
    }
   ],
   "source": [
    "str(i)"
   ]
  },
  {
   "cell_type": "code",
   "execution_count": 48,
   "id": "b7c07cb6",
   "metadata": {},
   "outputs": [],
   "source": [
    "t = (\"sanj\" , \"kumar\" ,[1,2,3,4,5] , (3,4,5,6) , {3:3 , \"key2\" :\"kumar\"})"
   ]
  },
  {
   "cell_type": "code",
   "execution_count": 49,
   "id": "ee62969e",
   "metadata": {},
   "outputs": [],
   "source": [
    "t=(\"sanj\",\"kumar\",[1,3,5,7,4],(3,5,88,4),{3:3,3:\"kjshdf\",\"key1\":\"sudh\",\"key2\":\"kumar\"})"
   ]
  },
  {
   "cell_type": "code",
   "execution_count": 50,
   "id": "3d9496f8",
   "metadata": {},
   "outputs": [
    {
     "name": "stdout",
     "output_type": "stream",
     "text": [
      "3\n",
      "3\n",
      "3\n",
      "kjshdf\n"
     ]
    }
   ],
   "source": [
    "for i in t :\n",
    "    if type(i) == list or type(i) == tuple :\n",
    "        for j in i :\n",
    "            if j == 3 :\n",
    "                print(j)\n",
    "    if type(i) == dict :\n",
    "        for k,v  in i.items():\n",
    "            if k == 3 or v == 3 :\n",
    "                print(k)\n",
    "                print(v)\n",
    "        "
   ]
  },
  {
   "cell_type": "code",
   "execution_count": 51,
   "id": "76b278bf",
   "metadata": {},
   "outputs": [],
   "source": [
    "d = {4:5 , \"key1\" : \"sanj\" , \"key2\" : \"kumar\"}"
   ]
  },
  {
   "cell_type": "code",
   "execution_count": 52,
   "id": "0955b52c",
   "metadata": {},
   "outputs": [
    {
     "data": {
      "text/plain": [
       "dict_items([(4, 5), ('key1', 'sanj'), ('key2', 'kumar')])"
      ]
     },
     "execution_count": 52,
     "metadata": {},
     "output_type": "execute_result"
    }
   ],
   "source": [
    "d.items()"
   ]
  },
  {
   "cell_type": "code",
   "execution_count": 53,
   "id": "b54881ee",
   "metadata": {},
   "outputs": [
    {
     "name": "stdout",
     "output_type": "stream",
     "text": [
      "(4, 5)\n",
      "('key1', 'sanj')\n",
      "('key2', 'kumar')\n"
     ]
    }
   ],
   "source": [
    "for i in d.items():\n",
    "    print(i)"
   ]
  },
  {
   "cell_type": "code",
   "execution_count": 54,
   "id": "4f78888b",
   "metadata": {},
   "outputs": [
    {
     "data": {
      "text/plain": [
       "dict_items([(4, 5), ('key1', 'sanj'), ('key2', 'kumar')])"
      ]
     },
     "execution_count": 54,
     "metadata": {},
     "output_type": "execute_result"
    }
   ],
   "source": [
    "d.items()"
   ]
  },
  {
   "cell_type": "code",
   "execution_count": 55,
   "id": "99091377",
   "metadata": {},
   "outputs": [],
   "source": [
    "a = 10 \n",
    "b = 20\n",
    "c = 30 "
   ]
  },
  {
   "cell_type": "code",
   "execution_count": 56,
   "id": "b1a6b6ca",
   "metadata": {},
   "outputs": [],
   "source": [
    "a , b , c = 10 , 20 , 30 "
   ]
  },
  {
   "cell_type": "code",
   "execution_count": 57,
   "id": "41ab2383",
   "metadata": {},
   "outputs": [],
   "source": [
    "a,b,c = (10,20,30)"
   ]
  },
  {
   "cell_type": "code",
   "execution_count": 58,
   "id": "9cd1dcde",
   "metadata": {},
   "outputs": [
    {
     "name": "stdout",
     "output_type": "stream",
     "text": [
      "sanjeev \n",
      "\n",
      "sanjeev sanjeev \n",
      "\n",
      "sanjeev sanjeev sanjeev \n",
      "\n",
      "sanjeev sanjeev sanjeev sanjeev \n",
      "\n"
     ]
    }
   ],
   "source": [
    "for i in range(4):\n",
    "    for j in range(0,i+1):\n",
    "        print(\"sanjeev\",end=\" \")\n",
    "    print(\"\\n\")"
   ]
  },
  {
   "cell_type": "code",
   "execution_count": 59,
   "id": "4269cdc2",
   "metadata": {},
   "outputs": [
    {
     "ename": "KeyError",
     "evalue": "'a'",
     "output_type": "error",
     "traceback": [
      "\u001b[1;31m---------------------------------------------------------------------------\u001b[0m",
      "\u001b[1;31mKeyError\u001b[0m                                  Traceback (most recent call last)",
      "Input \u001b[1;32mIn [59]\u001b[0m, in \u001b[0;36m<cell line: 2>\u001b[1;34m()\u001b[0m\n\u001b[0;32m      1\u001b[0m d1 \u001b[38;5;241m=\u001b[39m {}\n\u001b[1;32m----> 2\u001b[0m \u001b[43md1\u001b[49m\u001b[43m[\u001b[49m\u001b[38;5;124;43m'\u001b[39;49m\u001b[38;5;124;43ma\u001b[39;49m\u001b[38;5;124;43m'\u001b[39;49m\u001b[43m]\u001b[49m \u001b[38;5;241m==\u001b[39m \u001b[38;5;28;01mNone\u001b[39;00m\n",
      "\u001b[1;31mKeyError\u001b[0m: 'a'"
     ]
    }
   ],
   "source": [
    "d1 = {}\n",
    "d1['a'] == None"
   ]
  },
  {
   "cell_type": "code",
   "execution_count": 60,
   "id": "27afcae7",
   "metadata": {},
   "outputs": [],
   "source": [
    "s=\"aaaabbccd\"\n",
    "d = {}\n",
    "for i in set(s) : \n",
    "    d[i] =  s.count(i)\n",
    "    "
   ]
  },
  {
   "cell_type": "code",
   "execution_count": 61,
   "id": "761bf90f",
   "metadata": {},
   "outputs": [
    {
     "data": {
      "text/plain": [
       "{'d': 1, 'a': 4, 'c': 2, 'b': 2}"
      ]
     },
     "execution_count": 61,
     "metadata": {},
     "output_type": "execute_result"
    }
   ],
   "source": [
    "d"
   ]
  },
  {
   "cell_type": "code",
   "execution_count": 62,
   "id": "ca866355",
   "metadata": {},
   "outputs": [
    {
     "data": {
      "text/plain": [
       "([6, 5, 4, 3, 2, 1, 0], 'ineuron')"
      ]
     },
     "execution_count": 62,
     "metadata": {},
     "output_type": "execute_result"
    }
   ],
   "source": [
    "l = list(range(6,-1,-1))\n",
    "s = 'ineuron'\n",
    "t = (l,s)\n",
    "\n",
    "t"
   ]
  },
  {
   "cell_type": "code",
   "execution_count": 63,
   "id": "18fc6daf",
   "metadata": {},
   "outputs": [
    {
     "data": {
      "text/plain": [
       "{'d': 1, 'a': 4, 'c': 2, 'b': 2}"
      ]
     },
     "execution_count": 63,
     "metadata": {},
     "output_type": "execute_result"
    }
   ],
   "source": [
    "d"
   ]
  },
  {
   "cell_type": "code",
   "execution_count": 64,
   "id": "c3937a50",
   "metadata": {},
   "outputs": [
    {
     "data": {
      "text/plain": [
       "dict_items([('d', 1), ('a', 4), ('c', 2), ('b', 2)])"
      ]
     },
     "execution_count": 64,
     "metadata": {},
     "output_type": "execute_result"
    }
   ],
   "source": [
    "d.items()"
   ]
  },
  {
   "cell_type": "code",
   "execution_count": 65,
   "id": "46d04ef0",
   "metadata": {},
   "outputs": [
    {
     "name": "stdout",
     "output_type": "stream",
     "text": [
      "[3, 3] [3]\n"
     ]
    }
   ],
   "source": [
    "i = j = [3]\n",
    "i = [3] + [3]\n",
    "print(i,j)"
   ]
  },
  {
   "cell_type": "code",
   "execution_count": 66,
   "id": "91e56cff",
   "metadata": {},
   "outputs": [
    {
     "name": "stdout",
     "output_type": "stream",
     "text": [
      "{'python', 'beginners', 'coding', 'for', 'tips'}\n"
     ]
    },
    {
     "data": {
      "text/plain": [
       "'python beginners coding for tips'"
      ]
     },
     "execution_count": 66,
     "metadata": {},
     "output_type": "execute_result"
    }
   ],
   "source": [
    "set = {\"python\", \"coding\", \"tips\", \"for\", \"beginners\"}\n",
    "print(set)\n",
    "' '.join(set)"
   ]
  },
  {
   "cell_type": "code",
   "execution_count": 67,
   "id": "691847f4",
   "metadata": {},
   "outputs": [
    {
     "name": "stdout",
     "output_type": "stream",
     "text": [
      "('python', 'coding', 'tips', 'for', 'beginners')\n"
     ]
    },
    {
     "data": {
      "text/plain": [
       "'python coding tips for beginners'"
      ]
     },
     "execution_count": 67,
     "metadata": {},
     "output_type": "execute_result"
    }
   ],
   "source": [
    "tuple = (\"python\", \"coding\", \"tips\", \"for\", \"beginners\")\n",
    "print(tuple)\n",
    "' '.join(tuple)"
   ]
  },
  {
   "cell_type": "code",
   "execution_count": 68,
   "id": "bd8d1a9c",
   "metadata": {},
   "outputs": [
    {
     "name": "stdout",
     "output_type": "stream",
     "text": [
      "{'p': 'y', 't': 'h', 'o': 'n'}\n"
     ]
    }
   ],
   "source": [
    "print(dict((\"py\", \"th\", \"on\")))"
   ]
  },
  {
   "cell_type": "code",
   "execution_count": 69,
   "id": "1d89ad27",
   "metadata": {},
   "outputs": [
    {
     "name": "stdout",
     "output_type": "stream",
     "text": [
      "[3, 3] [3, 3]\n"
     ]
    }
   ],
   "source": [
    "i = j = [3]\n",
    "i += j\n",
    "print(i,j)"
   ]
  },
  {
   "cell_type": "code",
   "execution_count": 70,
   "id": "66aee2a0",
   "metadata": {},
   "outputs": [],
   "source": [
    "s = {1,1,1,11,1,1,4,4,4,4}"
   ]
  },
  {
   "cell_type": "code",
   "execution_count": 71,
   "id": "d81c4500",
   "metadata": {},
   "outputs": [],
   "source": [
    "s.add(3)"
   ]
  },
  {
   "cell_type": "code",
   "execution_count": 72,
   "id": "061f7670",
   "metadata": {},
   "outputs": [
    {
     "name": "stdout",
     "output_type": "stream",
     "text": [
      "sudh*\n",
      "sudh*sudh*\n",
      "sudh*sudh*sudh*\n",
      "sudh*sudh*sudh*sudh*\n"
     ]
    }
   ],
   "source": [
    "for i in range(4) :\n",
    "    for j in range (0 , i+1) :\n",
    "        print(\"sudh\" , end = \"*\")\n",
    "    print()"
   ]
  },
  {
   "cell_type": "code",
   "execution_count": 73,
   "id": "3f391244",
   "metadata": {},
   "outputs": [],
   "source": [
    "l= [(3,4,5,6) , [2,4,5,5,6] , {'k1' : 'v1' , 'k2' :'v2'}]\n",
    "l1 = []"
   ]
  },
  {
   "cell_type": "code",
   "execution_count": 74,
   "id": "f2e26c2d",
   "metadata": {},
   "outputs": [],
   "source": [
    "for i in l :\n",
    "    if type(i) == list or type( i )== tuple :\n",
    "        for j in i :\n",
    "            l1.append(j)\n",
    "    if type(i) == dict :\n",
    "        for k in i.items():\n",
    "            for m in k :\n",
    "                l1.append(m)    "
   ]
  },
  {
   "cell_type": "code",
   "execution_count": 75,
   "id": "47b4e893",
   "metadata": {},
   "outputs": [
    {
     "data": {
      "text/plain": [
       "[2, 4, 5, 5, 6, 'k1', 'v1', 'k2', 'v2']"
      ]
     },
     "execution_count": 75,
     "metadata": {},
     "output_type": "execute_result"
    }
   ],
   "source": [
    "l1"
   ]
  },
  {
   "cell_type": "code",
   "execution_count": 76,
   "id": "234bf593",
   "metadata": {},
   "outputs": [
    {
     "data": {
      "text/plain": [
       "1"
      ]
     },
     "execution_count": 76,
     "metadata": {},
     "output_type": "execute_result"
    }
   ],
   "source": [
    "5%2"
   ]
  },
  {
   "cell_type": "code",
   "execution_count": 77,
   "id": "776d959d",
   "metadata": {},
   "outputs": [
    {
     "name": "stdout",
     "output_type": "stream",
     "text": [
      "No\n"
     ]
    }
   ],
   "source": [
    "a = \"sanj\"\n",
    "\n",
    "if \"3\" in a:\n",
    "    print(\"yes\")\n",
    "else:\n",
    "    print(\"No\")\n"
   ]
  },
  {
   "cell_type": "code",
   "execution_count": 78,
   "id": "8fec796f",
   "metadata": {},
   "outputs": [
    {
     "name": "stdout",
     "output_type": "stream",
     "text": [
      "sudh \n",
      "\n",
      "sudh sudh \n",
      "\n",
      "sudh sudh sudh \n",
      "\n",
      "sudh sudh sudh sudh \n",
      "\n"
     ]
    }
   ],
   "source": [
    "for i in range(4) :\n",
    "    for j in range(0,i+1) :\n",
    "        print(\"sudh\" , end =\" \")\n",
    "    print(\"\\n\")\n"
   ]
  },
  {
   "cell_type": "code",
   "execution_count": 79,
   "id": "3d5e2090",
   "metadata": {},
   "outputs": [
    {
     "name": "stdout",
     "output_type": "stream",
     "text": [
      "  sanj \n",
      " sanj sanj sanj \n",
      "sanj sanj sanj sanj sanj \n"
     ]
    }
   ],
   "source": [
    "n=3\n",
    "for i in range (n):\n",
    "    for j in range(i,n-1):\n",
    "        print(\"\" *len(\"sanj\"),end= \" \")\n",
    "    for j in range (i+1):\n",
    "        print(\"sanj\",end=\" \" )\n",
    "    for j in range(i):\n",
    "        print(\"sanj\",end= \" \")\n",
    "    print()\n"
   ]
  },
  {
   "cell_type": "code",
   "execution_count": 80,
   "id": "414d91fa",
   "metadata": {},
   "outputs": [
    {
     "name": "stdout",
     "output_type": "stream",
     "text": [
      "12\n"
     ]
    }
   ],
   "source": [
    "b = input()"
   ]
  },
  {
   "cell_type": "code",
   "execution_count": null,
   "id": "74e75af0",
   "metadata": {},
   "outputs": [],
   "source": []
  }
 ],
 "metadata": {
  "kernelspec": {
   "display_name": "Python 3 (ipykernel)",
   "language": "python",
   "name": "python3"
  },
  "language_info": {
   "codemirror_mode": {
    "name": "ipython",
    "version": 3
   },
   "file_extension": ".py",
   "mimetype": "text/x-python",
   "name": "python",
   "nbconvert_exporter": "python",
   "pygments_lexer": "ipython3",
   "version": "3.9.12"
  }
 },
 "nbformat": 4,
 "nbformat_minor": 5
}
