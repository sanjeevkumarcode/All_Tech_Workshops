{
 "cells": [
  {
   "cell_type": "code",
   "execution_count": 1,
   "id": "6a448917",
   "metadata": {},
   "outputs": [
    {
     "ename": "ZeroDivisionError",
     "evalue": "division by zero",
     "output_type": "error",
     "traceback": [
      "\u001b[1;31m---------------------------------------------------------------------------\u001b[0m",
      "\u001b[1;31mZeroDivisionError\u001b[0m                         Traceback (most recent call last)",
      "Input \u001b[1;32mIn [1]\u001b[0m, in \u001b[0;36m<cell line: 2>\u001b[1;34m()\u001b[0m\n\u001b[0;32m      1\u001b[0m a \u001b[38;5;241m=\u001b[39m \u001b[38;5;241m10\u001b[39m \n\u001b[1;32m----> 2\u001b[0m \u001b[43ma\u001b[49m\u001b[38;5;241;43m/\u001b[39;49m\u001b[38;5;241;43m0\u001b[39;49m\n",
      "\u001b[1;31mZeroDivisionError\u001b[0m: division by zero"
     ]
    }
   ],
   "source": [
    "a = 10 \n",
    "a/0"
   ]
  },
  {
   "cell_type": "code",
   "execution_count": 2,
   "id": "b059f21d",
   "metadata": {},
   "outputs": [
    {
     "ename": "FileNotFoundError",
     "evalue": "[Errno 2] No such file or directory: 'sanj123.txt '",
     "output_type": "error",
     "traceback": [
      "\u001b[1;31m---------------------------------------------------------------------------\u001b[0m",
      "\u001b[1;31mFileNotFoundError\u001b[0m                         Traceback (most recent call last)",
      "Input \u001b[1;32mIn [2]\u001b[0m, in \u001b[0;36m<cell line: 1>\u001b[1;34m()\u001b[0m\n\u001b[1;32m----> 1\u001b[0m f \u001b[38;5;241m=\u001b[39m \u001b[38;5;28;43mopen\u001b[39;49m\u001b[43m(\u001b[49m\u001b[38;5;124;43m\"\u001b[39;49m\u001b[38;5;124;43msanj123.txt \u001b[39;49m\u001b[38;5;124;43m\"\u001b[39;49m\u001b[43m \u001b[49m\u001b[43m,\u001b[49m\u001b[43m \u001b[49m\u001b[38;5;124;43m\"\u001b[39;49m\u001b[38;5;124;43mr\u001b[39;49m\u001b[38;5;124;43m\"\u001b[39;49m\u001b[43m)\u001b[49m\n\u001b[0;32m      2\u001b[0m \u001b[38;5;28mprint\u001b[39m(\u001b[38;5;124m\"\u001b[39m\u001b[38;5;124mthis is my code to handle an exception \u001b[39m\u001b[38;5;124m\"\u001b[39m)\n",
      "\u001b[1;31mFileNotFoundError\u001b[0m: [Errno 2] No such file or directory: 'sanj123.txt '"
     ]
    }
   ],
   "source": [
    "f = open(\"sanj123.txt \" , \"r\")\n",
    "print(\"this is my code to handle an exception \")"
   ]
  },
  {
   "cell_type": "code",
   "execution_count": 3,
   "id": "2a970ac1",
   "metadata": {},
   "outputs": [
    {
     "name": "stdout",
     "output_type": "stream",
     "text": [
      "1.0\n"
     ]
    }
   ],
   "source": [
    "try :\n",
    "    a = 10 \n",
    "    print(a/10)\n",
    "except Exception as e : \n",
    "    print(e)\n",
    "    print(\"this will be my final code after handling an exception \")"
   ]
  },
  {
   "cell_type": "code",
   "execution_count": 4,
   "id": "850839c6",
   "metadata": {},
   "outputs": [
    {
     "name": "stdout",
     "output_type": "stream",
     "text": [
      "[Errno 2] No such file or directory: 'sanjeev.txt'\n"
     ]
    }
   ],
   "source": [
    "try :\n",
    "    f = open(\"sanjeev.txt\" , \"r\")\n",
    "except Exception as e :\n",
    "    print(e)"
   ]
  },
  {
   "cell_type": "code",
   "execution_count": 5,
   "id": "9606e54e",
   "metadata": {},
   "outputs": [
    {
     "ename": "FileNotFoundError",
     "evalue": "[Errno 2] No such file or directory: 'sanj.txt r'",
     "output_type": "error",
     "traceback": [
      "\u001b[1;31m---------------------------------------------------------------------------\u001b[0m",
      "\u001b[1;31mFileNotFoundError\u001b[0m                         Traceback (most recent call last)",
      "Input \u001b[1;32mIn [5]\u001b[0m, in \u001b[0;36m<cell line: 1>\u001b[1;34m()\u001b[0m\n\u001b[1;32m----> 1\u001b[0m f \u001b[38;5;241m=\u001b[39m \u001b[38;5;28;43mopen\u001b[39;49m\u001b[43m(\u001b[49m\u001b[38;5;124;43m\"\u001b[39;49m\u001b[38;5;124;43msanj.txt\u001b[39;49m\u001b[38;5;124;43m\"\u001b[39;49m\u001b[43m \u001b[49m\u001b[38;5;124;43m\"\u001b[39;49m\u001b[38;5;124;43m r\u001b[39;49m\u001b[38;5;124;43m\"\u001b[39;49m\u001b[43m)\u001b[49m\n\u001b[0;32m      2\u001b[0m f\u001b[38;5;241m.\u001b[39mwrite(\u001b[38;5;124m\"\u001b[39m\u001b[38;5;124mthis is my suspicuous code \u001b[39m\u001b[38;5;124m\"\u001b[39m)\n",
      "\u001b[1;31mFileNotFoundError\u001b[0m: [Errno 2] No such file or directory: 'sanj.txt r'"
     ]
    }
   ],
   "source": [
    "f = open(\"sanj.txt\" \" r\")\n",
    "f.write(\"this is my suspicuous code \")"
   ]
  },
  {
   "cell_type": "code",
   "execution_count": 6,
   "id": "342791f3",
   "metadata": {},
   "outputs": [
    {
     "name": "stdout",
     "output_type": "stream",
     "text": [
      "[Errno 2] No such file or directory: 'sanj.txt r'\n",
      "this is  not my suspicious set of the code \n"
     ]
    }
   ],
   "source": [
    "try :\n",
    "    f = open(\"sanj.txt\" \" r\")\n",
    "    f.write(\"this is my suspicuous code \")\n",
    "except Exception as e : \n",
    "    print(e)\n",
    "    print(\"this is  not my suspicious set of the code \")\n",
    "    "
   ]
  },
  {
   "cell_type": "code",
   "execution_count": 7,
   "id": "dd5ed784",
   "metadata": {},
   "outputs": [
    {
     "name": "stdout",
     "output_type": "stream",
     "text": [
      "[Errno 2] No such file or directory: 'sudh.txt r'\n",
      "this is  not my suspicious set of the code \n",
      "this block will be executed anytime \n"
     ]
    }
   ],
   "source": [
    "try :\n",
    "    f = open(\"sudh.txt\" \" r\")\n",
    "    f.write(\"this is my suspicuous code \")\n",
    "except Exception as e : \n",
    "    print(e)\n",
    "    print(\"this is  not my suspicious set of the code \")\n",
    "finally :\n",
    "    print(\"this block will be executed anytime \")\n",
    "    "
   ]
  },
  {
   "cell_type": "code",
   "execution_count": 8,
   "id": "30eb2050",
   "metadata": {},
   "outputs": [],
   "source": [
    "def askint():\n",
    "    try :\n",
    "        val = int(input(\"plese enter an interger \"))\n",
    "    except:\n",
    "        print(\"no you have not entered an  integer \")\n",
    "        try :\n",
    "            val = int(input(\"plese enter an interger \"))\n",
    "        except : \n",
    "            print(\"we are able to handle your mistake second time \")\n",
    "    finally : \n",
    "         print(\"finally will be executed anyhow \")\n",
    "            "
   ]
  },
  {
   "cell_type": "code",
   "execution_count": 9,
   "id": "89bc74f4",
   "metadata": {},
   "outputs": [
    {
     "name": "stdout",
     "output_type": "stream",
     "text": [
      "plese enter an interger 12\n"
     ]
    }
   ],
   "source": [
    "val = int(input(\"plese enter an interger \"))"
   ]
  },
  {
   "cell_type": "code",
   "execution_count": 10,
   "id": "f530019a",
   "metadata": {},
   "outputs": [
    {
     "name": "stdout",
     "output_type": "stream",
     "text": [
      "plese enter an interger 12\n",
      "finally will be executed anyhow \n"
     ]
    }
   ],
   "source": [
    "askint()"
   ]
  },
  {
   "cell_type": "code",
   "execution_count": 11,
   "id": "b84608ba",
   "metadata": {},
   "outputs": [],
   "source": [
    "def askint1():\n",
    "    while True :\n",
    "        try :\n",
    "            val = int(input(\"please try to input an interger \"))\n",
    "            break \n",
    "        except : \n",
    "            print(\"looks like you have not enterd an integer \")\n",
    "            continue\n",
    "            \n",
    "            "
   ]
  },
  {
   "cell_type": "code",
   "execution_count": null,
   "id": "8b3521f0",
   "metadata": {},
   "outputs": [],
   "source": []
  },
  {
   "cell_type": "code",
   "execution_count": 12,
   "id": "550bff87",
   "metadata": {},
   "outputs": [
    {
     "name": "stdout",
     "output_type": "stream",
     "text": [
      "please try to input an interger 12\n"
     ]
    }
   ],
   "source": [
    "askint1()"
   ]
  },
  {
   "cell_type": "code",
   "execution_count": 13,
   "id": "5daff173",
   "metadata": {},
   "outputs": [
    {
     "name": "stdout",
     "output_type": "stream",
     "text": [
      "please try to input an interger 12\n"
     ]
    }
   ],
   "source": [
    "while True :\n",
    "    try :\n",
    "        val = int(input(\"please try to input an interger \"))\n",
    "        break \n",
    "    except : \n",
    "        print(\"looks like you have not enterd an integer \")\n",
    "        "
   ]
  },
  {
   "cell_type": "code",
   "execution_count": 14,
   "id": "31810f6b",
   "metadata": {},
   "outputs": [],
   "source": [
    "def askint():\n",
    "    while True : \n",
    "        \n",
    "        try:\n",
    "            val=int(input(\"Enter an Integer\"))\n",
    "            break\n",
    "        except:\n",
    "            print(\"No, you have not entered an Integer\")\n",
    "            continue\n"
   ]
  },
  {
   "cell_type": "code",
   "execution_count": 15,
   "id": "9da8ae4e",
   "metadata": {},
   "outputs": [
    {
     "name": "stdout",
     "output_type": "stream",
     "text": [
      "Enter an Integer12\n"
     ]
    }
   ],
   "source": [
    "askint()"
   ]
  },
  {
   "cell_type": "code",
   "execution_count": 30,
   "id": "3efee090",
   "metadata": {},
   "outputs": [],
   "source": [
    "def askint():\n",
    "    while True :\n",
    "        try :\n",
    "            val=int(input('enter integer'))\n",
    "            break\n",
    "        except :\n",
    "            print('Plz enter integer')\n",
    "            continue\n",
    "        finally :\n",
    "            print(\"it will be executed always\")\n"
   ]
  },
  {
   "cell_type": "code",
   "execution_count": 32,
   "id": "01dff1cd",
   "metadata": {},
   "outputs": [
    {
     "name": "stdout",
     "output_type": "stream",
     "text": [
      "enter integergsdf\n",
      "Plz enter integer\n",
      "it will be executed always\n",
      "enter integerdsfg\n",
      "Plz enter integer\n",
      "it will be executed always\n",
      "enter integer234\n",
      "it will be executed always\n"
     ]
    }
   ],
   "source": [
    "askint()"
   ]
  },
  {
   "cell_type": "code",
   "execution_count": 16,
   "id": "21b283ff",
   "metadata": {},
   "outputs": [
    {
     "name": "stdout",
     "output_type": "stream",
     "text": [
      "division by zero\n"
     ]
    }
   ],
   "source": [
    "try:\n",
    "    a=10\n",
    "    b=2\n",
    "    print(a/0)\n",
    "    print(a/2)\n",
    "    \n",
    "except Exception as e :\n",
    "    print(e)\n"
   ]
  },
  {
   "cell_type": "code",
   "execution_count": 17,
   "id": "5a6284ab",
   "metadata": {},
   "outputs": [],
   "source": [
    "def check_str1(a):\n",
    "    for i in a:\n",
    "        if type(i) == str:\n",
    "            print(i)\n"
   ]
  },
  {
   "cell_type": "code",
   "execution_count": 18,
   "id": "506e02da",
   "metadata": {},
   "outputs": [],
   "source": [
    "l2 = [1,2,3,4,5,[1,2,3],'r','b','c']\n",
    "\n"
   ]
  },
  {
   "cell_type": "code",
   "execution_count": 19,
   "id": "3f828d19",
   "metadata": {},
   "outputs": [
    {
     "name": "stdout",
     "output_type": "stream",
     "text": [
      "[Errno 2] No such file or directory: 'sanj123.txt'\n"
     ]
    },
    {
     "ename": "NameError",
     "evalue": "name 'f1' is not defined",
     "output_type": "error",
     "traceback": [
      "\u001b[1;31m---------------------------------------------------------------------------\u001b[0m",
      "\u001b[1;31mNameError\u001b[0m                                 Traceback (most recent call last)",
      "Input \u001b[1;32mIn [19]\u001b[0m, in \u001b[0;36m<cell line: 1>\u001b[1;34m()\u001b[0m\n\u001b[0;32m      6\u001b[0m     \u001b[38;5;28mprint\u001b[39m(e)   \n\u001b[0;32m      8\u001b[0m \u001b[38;5;28;01mfinally\u001b[39;00m:\n\u001b[1;32m----> 9\u001b[0m     \u001b[43mf1\u001b[49m\u001b[38;5;241m.\u001b[39mclose()\n\u001b[0;32m     10\u001b[0m     \u001b[38;5;28mprint\u001b[39m(\u001b[38;5;124m\"\u001b[39m\u001b[38;5;124minside finally block, even if there is an exception or not this will be printed\u001b[39m\u001b[38;5;124m\"\u001b[39m)\n",
      "\u001b[1;31mNameError\u001b[0m: name 'f1' is not defined"
     ]
    }
   ],
   "source": [
    "try:\n",
    "    \n",
    "    f1=open(\"sanj123.txt\",\"r\")\n",
    "    f1.write()\n",
    "except Exception as e:\n",
    "    print(e)   \n",
    "\n",
    "finally:\n",
    "    f1.close()\n",
    "    print(\"inside finally block, even if there is an exception or not this will be printed\")\n"
   ]
  }
 ],
 "metadata": {
  "kernelspec": {
   "display_name": "Python 3 (ipykernel)",
   "language": "python",
   "name": "python3"
  },
  "language_info": {
   "codemirror_mode": {
    "name": "ipython",
    "version": 3
   },
   "file_extension": ".py",
   "mimetype": "text/x-python",
   "name": "python",
   "nbconvert_exporter": "python",
   "pygments_lexer": "ipython3",
   "version": "3.9.12"
  }
 },
 "nbformat": 4,
 "nbformat_minor": 5
}
