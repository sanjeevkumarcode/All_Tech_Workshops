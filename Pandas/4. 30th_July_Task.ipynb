{
 "cells": [
  {
   "cell_type": "markdown",
   "id": "51b09f24",
   "metadata": {},
   "source": [
    "## 30th_July_Task"
   ]
  },
  {
   "cell_type": "code",
   "execution_count": 1,
   "id": "3f60b348",
   "metadata": {},
   "outputs": [],
   "source": [
    "import pandas as pd"
   ]
  },
  {
   "cell_type": "code",
   "execution_count": 2,
   "id": "a6203a13",
   "metadata": {},
   "outputs": [],
   "source": [
    "agent_data = pd.read_csv(\"D:\\AgentPerformance.csv\")"
   ]
  },
  {
   "cell_type": "code",
   "execution_count": 3,
   "id": "97297851",
   "metadata": {},
   "outputs": [
    {
     "data": {
      "text/html": [
       "<div>\n",
       "<style scoped>\n",
       "    .dataframe tbody tr th:only-of-type {\n",
       "        vertical-align: middle;\n",
       "    }\n",
       "\n",
       "    .dataframe tbody tr th {\n",
       "        vertical-align: top;\n",
       "    }\n",
       "\n",
       "    .dataframe thead th {\n",
       "        text-align: right;\n",
       "    }\n",
       "</style>\n",
       "<table border=\"1\" class=\"dataframe\">\n",
       "  <thead>\n",
       "    <tr style=\"text-align: right;\">\n",
       "      <th></th>\n",
       "      <th>SL No</th>\n",
       "      <th>Date</th>\n",
       "      <th>Agent Name</th>\n",
       "      <th>Total Chats</th>\n",
       "      <th>Average Response Time</th>\n",
       "      <th>Average Resolution Time</th>\n",
       "      <th>Average Rating</th>\n",
       "      <th>Total Feedback</th>\n",
       "    </tr>\n",
       "  </thead>\n",
       "  <tbody>\n",
       "    <tr>\n",
       "      <th>0</th>\n",
       "      <td>1</td>\n",
       "      <td>7/30/2022</td>\n",
       "      <td>Prerna Singh</td>\n",
       "      <td>11</td>\n",
       "      <td>0:00:38</td>\n",
       "      <td>0:04:20</td>\n",
       "      <td>4.11</td>\n",
       "      <td>9</td>\n",
       "    </tr>\n",
       "    <tr>\n",
       "      <th>1</th>\n",
       "      <td>2</td>\n",
       "      <td>7/30/2022</td>\n",
       "      <td>Nandani Gupta</td>\n",
       "      <td>11</td>\n",
       "      <td>0:01:15</td>\n",
       "      <td>0:28:25</td>\n",
       "      <td>3.14</td>\n",
       "      <td>7</td>\n",
       "    </tr>\n",
       "    <tr>\n",
       "      <th>2</th>\n",
       "      <td>3</td>\n",
       "      <td>7/30/2022</td>\n",
       "      <td>Ameya Jain</td>\n",
       "      <td>14</td>\n",
       "      <td>0:00:30</td>\n",
       "      <td>0:11:36</td>\n",
       "      <td>4.55</td>\n",
       "      <td>11</td>\n",
       "    </tr>\n",
       "    <tr>\n",
       "      <th>3</th>\n",
       "      <td>4</td>\n",
       "      <td>7/30/2022</td>\n",
       "      <td>Mahesh Sarade</td>\n",
       "      <td>14</td>\n",
       "      <td>0:01:04</td>\n",
       "      <td>0:15:46</td>\n",
       "      <td>4.71</td>\n",
       "      <td>7</td>\n",
       "    </tr>\n",
       "    <tr>\n",
       "      <th>4</th>\n",
       "      <td>5</td>\n",
       "      <td>7/30/2022</td>\n",
       "      <td>Swati</td>\n",
       "      <td>14</td>\n",
       "      <td>0:01:11</td>\n",
       "      <td>0:16:33</td>\n",
       "      <td>3.67</td>\n",
       "      <td>6</td>\n",
       "    </tr>\n",
       "  </tbody>\n",
       "</table>\n",
       "</div>"
      ],
      "text/plain": [
       "   SL No       Date     Agent Name  Total Chats Average Response Time  \\\n",
       "0      1  7/30/2022   Prerna Singh           11               0:00:38   \n",
       "1      2  7/30/2022  Nandani Gupta           11               0:01:15   \n",
       "2      3  7/30/2022     Ameya Jain           14               0:00:30   \n",
       "3      4  7/30/2022  Mahesh Sarade           14               0:01:04   \n",
       "4      5  7/30/2022         Swati            14               0:01:11   \n",
       "\n",
       "  Average Resolution Time  Average Rating  Total Feedback  \n",
       "0                 0:04:20            4.11               9  \n",
       "1                 0:28:25            3.14               7  \n",
       "2                 0:11:36            4.55              11  \n",
       "3                 0:15:46            4.71               7  \n",
       "4                 0:16:33            3.67               6  "
      ]
     },
     "execution_count": 3,
     "metadata": {},
     "output_type": "execute_result"
    }
   ],
   "source": [
    "agent_data.head()"
   ]
  },
  {
   "cell_type": "code",
   "execution_count": 4,
   "id": "49e02141",
   "metadata": {},
   "outputs": [
    {
     "data": {
      "text/plain": [
       "0       7/30/2022\n",
       "1       7/30/2022\n",
       "2       7/30/2022\n",
       "3       7/30/2022\n",
       "4       7/30/2022\n",
       "          ...    \n",
       "2155     7/1/2022\n",
       "2156     7/1/2022\n",
       "2157     7/1/2022\n",
       "2158     7/1/2022\n",
       "2159     7/1/2022\n",
       "Name: Date, Length: 2160, dtype: object"
      ]
     },
     "execution_count": 4,
     "metadata": {},
     "output_type": "execute_result"
    }
   ],
   "source": [
    "agent_data['Date']"
   ]
  },
  {
   "cell_type": "code",
   "execution_count": 5,
   "id": "5ef8b8fe",
   "metadata": {},
   "outputs": [
    {
     "data": {
      "text/plain": [
       "SL No                        int64\n",
       "Date                        object\n",
       "Agent Name                  object\n",
       "Total Chats                  int64\n",
       "Average Response Time       object\n",
       "Average Resolution Time     object\n",
       "Average Rating             float64\n",
       "Total Feedback               int64\n",
       "dtype: object"
      ]
     },
     "execution_count": 5,
     "metadata": {},
     "output_type": "execute_result"
    }
   ],
   "source": [
    "agent_data.dtypes"
   ]
  },
  {
   "cell_type": "code",
   "execution_count": 12,
   "id": "ca338f7f",
   "metadata": {},
   "outputs": [],
   "source": [
    "agent_data[\"Date\"] = agent_data[\"Date\"].astype('datetime64[ns]')\n"
   ]
  },
  {
   "cell_type": "code",
   "execution_count": 13,
   "id": "a798cdeb",
   "metadata": {},
   "outputs": [],
   "source": [
    "agent_data[\"day\"] = agent_data['Date'].apply (lambda r :r.day)\n",
    "agent_data[\"month\"] = agent_data['Date'].apply (lambda r :r.month)\n",
    "agent_data[\"year\"] = agent_data['Date'].apply (lambda r :r.year)\n",
    "agent_data[\"week\"] = agent_data['Date'].apply (lambda r :r.week)"
   ]
  },
  {
   "cell_type": "markdown",
   "id": "b95d0003",
   "metadata": {},
   "source": [
    "### 1. Find out there avarage rating on weekly basis keep this in a mind that they take two days of leave.\n"
   ]
  },
  {
   "cell_type": "code",
   "execution_count": 15,
   "id": "e66df9ea",
   "metadata": {},
   "outputs": [
    {
     "data": {
      "text/plain": [
       "<pandas.core.groupby.generic.DataFrameGroupBy object at 0x0000019B87336970>"
      ]
     },
     "execution_count": 15,
     "metadata": {},
     "output_type": "execute_result"
    }
   ],
   "source": [
    "agent_week_rating = agent_data[(agent_data[\"Average Rating\"] != 0) & \n",
    "                               (agent_data[\"Agent Name\"] == \"Prerna Singh\")][[\"Agent Name\",\"Average Rating\",\"week\"]].groupby(\"week\")\n",
    "agent_week_rating"
   ]
  },
  {
   "cell_type": "markdown",
   "id": "0f5a5412",
   "metadata": {},
   "source": [
    "### 2. Total working days for each agents."
   ]
  },
  {
   "cell_type": "code",
   "execution_count": null,
   "id": "3bade691",
   "metadata": {},
   "outputs": [],
   "source": [
    "agent_individual = agent_data[agent_data[\"Agent_Name\"] == \"Prerna Singh\"]\n",
    "agent_working = agent_individual[agent_individual[\"Total_Chats\"] != 0][[\"day\"]]\n",
    "len(agent_working[\"day\"])\n",
    "\n",
    "#There seems to be some error in data entry but it does not affect the count"
   ]
  },
  {
   "cell_type": "markdown",
   "id": "0f7b4c2b",
   "metadata": {},
   "source": [
    "### 3. Total query that you hvae taken."
   ]
  },
  {
   "cell_type": "code",
   "execution_count": 19,
   "id": "d0c56bdd",
   "metadata": {},
   "outputs": [
    {
     "data": {
      "text/plain": [
       "14720"
      ]
     },
     "execution_count": 19,
     "metadata": {},
     "output_type": "execute_result"
    }
   ],
   "source": [
    "agent_data['Total Chats'].sum()"
   ]
  },
  {
   "cell_type": "markdown",
   "id": "f4718ae3",
   "metadata": {},
   "source": [
    "### 4. Total Feedback that you have received."
   ]
  },
  {
   "cell_type": "code",
   "execution_count": 20,
   "id": "322d1a4c",
   "metadata": {},
   "outputs": [
    {
     "data": {
      "text/plain": [
       "9259"
      ]
     },
     "execution_count": 20,
     "metadata": {},
     "output_type": "execute_result"
    }
   ],
   "source": [
    "agent_data['Total Feedback'].sum()"
   ]
  },
  {
   "cell_type": "code",
   "execution_count": 21,
   "id": "246dfd9e",
   "metadata": {},
   "outputs": [
    {
     "data": {
      "text/plain": [
       "Index(['SL No', 'Date', 'Agent Name', 'Total Chats', 'Average Response Time',\n",
       "       'Average Resolution Time', 'Average Rating', 'Total Feedback', 'day',\n",
       "       'month', 'year', 'week'],\n",
       "      dtype='object')"
      ]
     },
     "execution_count": 21,
     "metadata": {},
     "output_type": "execute_result"
    }
   ],
   "source": [
    "agent_data.columns"
   ]
  },
  {
   "cell_type": "markdown",
   "id": "8899dcf4",
   "metadata": {},
   "source": [
    "### 5. Agent name who have average rating between 3.5 to 4."
   ]
  },
  {
   "cell_type": "code",
   "execution_count": 23,
   "id": "eb72c0a6",
   "metadata": {},
   "outputs": [
    {
     "data": {
      "text/html": [
       "<div>\n",
       "<style scoped>\n",
       "    .dataframe tbody tr th:only-of-type {\n",
       "        vertical-align: middle;\n",
       "    }\n",
       "\n",
       "    .dataframe tbody tr th {\n",
       "        vertical-align: top;\n",
       "    }\n",
       "\n",
       "    .dataframe thead th {\n",
       "        text-align: right;\n",
       "    }\n",
       "</style>\n",
       "<table border=\"1\" class=\"dataframe\">\n",
       "  <thead>\n",
       "    <tr style=\"text-align: right;\">\n",
       "      <th></th>\n",
       "      <th>Average Rating</th>\n",
       "      <th>Agent Name</th>\n",
       "    </tr>\n",
       "  </thead>\n",
       "  <tbody>\n",
       "    <tr>\n",
       "      <th>4</th>\n",
       "      <td>3.67</td>\n",
       "      <td>Swati</td>\n",
       "    </tr>\n",
       "    <tr>\n",
       "      <th>10</th>\n",
       "      <td>3.60</td>\n",
       "      <td>Manjunatha A</td>\n",
       "    </tr>\n",
       "    <tr>\n",
       "      <th>76</th>\n",
       "      <td>3.75</td>\n",
       "      <td>Prateek _iot</td>\n",
       "    </tr>\n",
       "    <tr>\n",
       "      <th>78</th>\n",
       "      <td>3.79</td>\n",
       "      <td>Nandani Gupta</td>\n",
       "    </tr>\n",
       "    <tr>\n",
       "      <th>80</th>\n",
       "      <td>3.95</td>\n",
       "      <td>Jaydeep Dixit</td>\n",
       "    </tr>\n",
       "    <tr>\n",
       "      <th>...</th>\n",
       "      <td>...</td>\n",
       "      <td>...</td>\n",
       "    </tr>\n",
       "    <tr>\n",
       "      <th>1869</th>\n",
       "      <td>3.78</td>\n",
       "      <td>Boktiar Ahmed Bappy</td>\n",
       "    </tr>\n",
       "    <tr>\n",
       "      <th>1874</th>\n",
       "      <td>3.80</td>\n",
       "      <td>Ayushi Mishra</td>\n",
       "    </tr>\n",
       "    <tr>\n",
       "      <th>1941</th>\n",
       "      <td>3.80</td>\n",
       "      <td>Jawala Prakash</td>\n",
       "    </tr>\n",
       "    <tr>\n",
       "      <th>2021</th>\n",
       "      <td>3.54</td>\n",
       "      <td>Aditya Shinde</td>\n",
       "    </tr>\n",
       "    <tr>\n",
       "      <th>2023</th>\n",
       "      <td>3.71</td>\n",
       "      <td>Deepranjan Gupta</td>\n",
       "    </tr>\n",
       "  </tbody>\n",
       "</table>\n",
       "<p>78 rows × 2 columns</p>\n",
       "</div>"
      ],
      "text/plain": [
       "      Average Rating           Agent Name\n",
       "4               3.67               Swati \n",
       "10              3.60         Manjunatha A\n",
       "76              3.75        Prateek _iot \n",
       "78              3.79        Nandani Gupta\n",
       "80              3.95        Jaydeep Dixit\n",
       "...              ...                  ...\n",
       "1869            3.78  Boktiar Ahmed Bappy\n",
       "1874            3.80        Ayushi Mishra\n",
       "1941            3.80       Jawala Prakash\n",
       "2021            3.54        Aditya Shinde\n",
       "2023            3.71     Deepranjan Gupta\n",
       "\n",
       "[78 rows x 2 columns]"
      ]
     },
     "execution_count": 23,
     "metadata": {},
     "output_type": "execute_result"
    }
   ],
   "source": [
    "agent_data[(agent_data[\"Average Rating\"] >3.5) & (agent_data[\"Average Rating\"]<4)][[\"Average Rating\",\"Agent Name\"]]\n"
   ]
  },
  {
   "cell_type": "markdown",
   "id": "72e3c2a3",
   "metadata": {},
   "source": [
    "### 6. Agent name who have rating lesss then 3.5."
   ]
  },
  {
   "cell_type": "code",
   "execution_count": 24,
   "id": "2552bf62",
   "metadata": {},
   "outputs": [
    {
     "data": {
      "text/html": [
       "<div>\n",
       "<style scoped>\n",
       "    .dataframe tbody tr th:only-of-type {\n",
       "        vertical-align: middle;\n",
       "    }\n",
       "\n",
       "    .dataframe tbody tr th {\n",
       "        vertical-align: top;\n",
       "    }\n",
       "\n",
       "    .dataframe thead th {\n",
       "        text-align: right;\n",
       "    }\n",
       "</style>\n",
       "<table border=\"1\" class=\"dataframe\">\n",
       "  <thead>\n",
       "    <tr style=\"text-align: right;\">\n",
       "      <th></th>\n",
       "      <th>Average Rating</th>\n",
       "      <th>Agent Name</th>\n",
       "    </tr>\n",
       "  </thead>\n",
       "  <tbody>\n",
       "    <tr>\n",
       "      <th>1</th>\n",
       "      <td>3.14</td>\n",
       "      <td>Nandani Gupta</td>\n",
       "    </tr>\n",
       "    <tr>\n",
       "      <th>19</th>\n",
       "      <td>0.00</td>\n",
       "      <td>Hitesh Choudhary</td>\n",
       "    </tr>\n",
       "    <tr>\n",
       "      <th>20</th>\n",
       "      <td>0.00</td>\n",
       "      <td>Sanjeevan</td>\n",
       "    </tr>\n",
       "    <tr>\n",
       "      <th>21</th>\n",
       "      <td>0.00</td>\n",
       "      <td>Anirudh</td>\n",
       "    </tr>\n",
       "    <tr>\n",
       "      <th>22</th>\n",
       "      <td>0.00</td>\n",
       "      <td>Shiva Srivastava</td>\n",
       "    </tr>\n",
       "    <tr>\n",
       "      <th>...</th>\n",
       "      <td>...</td>\n",
       "      <td>...</td>\n",
       "    </tr>\n",
       "    <tr>\n",
       "      <th>2155</th>\n",
       "      <td>0.00</td>\n",
       "      <td>Sowmiya Sivakumar</td>\n",
       "    </tr>\n",
       "    <tr>\n",
       "      <th>2156</th>\n",
       "      <td>0.00</td>\n",
       "      <td>Nitin M</td>\n",
       "    </tr>\n",
       "    <tr>\n",
       "      <th>2157</th>\n",
       "      <td>0.00</td>\n",
       "      <td>Vivek</td>\n",
       "    </tr>\n",
       "    <tr>\n",
       "      <th>2158</th>\n",
       "      <td>0.00</td>\n",
       "      <td>Ayushi Mishra</td>\n",
       "    </tr>\n",
       "    <tr>\n",
       "      <th>2159</th>\n",
       "      <td>0.00</td>\n",
       "      <td>Chaitra K Hiremath</td>\n",
       "    </tr>\n",
       "  </tbody>\n",
       "</table>\n",
       "<p>1474 rows × 2 columns</p>\n",
       "</div>"
      ],
      "text/plain": [
       "      Average Rating          Agent Name\n",
       "1               3.14       Nandani Gupta\n",
       "19              0.00    Hitesh Choudhary\n",
       "20              0.00          Sanjeevan \n",
       "21              0.00            Anirudh \n",
       "22              0.00    Shiva Srivastava\n",
       "...              ...                 ...\n",
       "2155            0.00   Sowmiya Sivakumar\n",
       "2156            0.00             Nitin M\n",
       "2157            0.00              Vivek \n",
       "2158            0.00       Ayushi Mishra\n",
       "2159            0.00  Chaitra K Hiremath\n",
       "\n",
       "[1474 rows x 2 columns]"
      ]
     },
     "execution_count": 24,
     "metadata": {},
     "output_type": "execute_result"
    }
   ],
   "source": [
    "agent_data[agent_data[\"Average Rating\"]<3.5][[\"Average Rating\",\"Agent Name\"]]\n"
   ]
  },
  {
   "cell_type": "code",
   "execution_count": null,
   "id": "8d0b415c",
   "metadata": {},
   "outputs": [],
   "source": []
  }
 ],
 "metadata": {
  "kernelspec": {
   "display_name": "Python 3 (ipykernel)",
   "language": "python",
   "name": "python3"
  },
  "language_info": {
   "codemirror_mode": {
    "name": "ipython",
    "version": 3
   },
   "file_extension": ".py",
   "mimetype": "text/x-python",
   "name": "python",
   "nbconvert_exporter": "python",
   "pygments_lexer": "ipython3",
   "version": "3.9.12"
  }
 },
 "nbformat": 4,
 "nbformat_minor": 5
}
