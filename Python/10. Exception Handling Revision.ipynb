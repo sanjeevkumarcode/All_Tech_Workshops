{
 "cells": [
  {
   "cell_type": "code",
   "execution_count": 1,
   "id": "6a448917",
   "metadata": {},
   "outputs": [
    {
     "ename": "ZeroDivisionError",
     "evalue": "division by zero",
     "output_type": "error",
     "traceback": [
      "\u001b[1;31m---------------------------------------------------------------------------\u001b[0m",
      "\u001b[1;31mZeroDivisionError\u001b[0m                         Traceback (most recent call last)",
      "\u001b[1;32m~\\AppData\\Local\\Temp/ipykernel_29224/4189529858.py\u001b[0m in \u001b[0;36m<module>\u001b[1;34m\u001b[0m\n\u001b[0;32m      1\u001b[0m \u001b[0ma\u001b[0m \u001b[1;33m=\u001b[0m \u001b[1;36m10\u001b[0m\u001b[1;33m\u001b[0m\u001b[1;33m\u001b[0m\u001b[0m\n\u001b[1;32m----> 2\u001b[1;33m \u001b[0ma\u001b[0m\u001b[1;33m/\u001b[0m\u001b[1;36m0\u001b[0m\u001b[1;33m\u001b[0m\u001b[1;33m\u001b[0m\u001b[0m\n\u001b[0m",
      "\u001b[1;31mZeroDivisionError\u001b[0m: division by zero"
     ]
    }
   ],
   "source": [
    "a = 10 \n",
    "a/0"
   ]
  },
  {
   "cell_type": "code",
   "execution_count": 4,
   "id": "b059f21d",
   "metadata": {},
   "outputs": [
    {
     "ename": "FileNotFoundError",
     "evalue": "[Errno 2] No such file or directory: 'sudh345.txt '",
     "output_type": "error",
     "traceback": [
      "\u001b[1;31m---------------------------------------------------------------------------\u001b[0m",
      "\u001b[1;31mFileNotFoundError\u001b[0m                         Traceback (most recent call last)",
      "\u001b[1;32m~\\AppData\\Local\\Temp/ipykernel_29224/2144228296.py\u001b[0m in \u001b[0;36m<module>\u001b[1;34m\u001b[0m\n\u001b[1;32m----> 1\u001b[1;33m \u001b[0mf\u001b[0m \u001b[1;33m=\u001b[0m \u001b[0mopen\u001b[0m\u001b[1;33m(\u001b[0m\u001b[1;34m\"sudh345.txt \"\u001b[0m \u001b[1;33m,\u001b[0m \u001b[1;34m\"r\"\u001b[0m\u001b[1;33m)\u001b[0m\u001b[1;33m\u001b[0m\u001b[1;33m\u001b[0m\u001b[0m\n\u001b[0m\u001b[0;32m      2\u001b[0m \u001b[0mprint\u001b[0m\u001b[1;33m(\u001b[0m\u001b[1;34m\"this is my code to handle an exception \"\u001b[0m\u001b[1;33m)\u001b[0m\u001b[1;33m\u001b[0m\u001b[1;33m\u001b[0m\u001b[0m\n",
      "\u001b[1;31mFileNotFoundError\u001b[0m: [Errno 2] No such file or directory: 'sudh345.txt '"
     ]
    }
   ],
   "source": [
    "f = open(\"sudh345.txt \" , \"r\")\n",
    "print(\"this is my code to handle an exception \")"
   ]
  },
  {
   "cell_type": "code",
   "execution_count": 11,
   "id": "2a970ac1",
   "metadata": {},
   "outputs": [
    {
     "name": "stdout",
     "output_type": "stream",
     "text": [
      "1.0\n"
     ]
    }
   ],
   "source": [
    "try :\n",
    "    a = 10 \n",
    "    print(a/10)\n",
    "except Exception as e : \n",
    "    print(e)\n",
    "    print(\"this will be my final code after handling an exception \")"
   ]
  },
  {
   "cell_type": "code",
   "execution_count": 13,
   "id": "850839c6",
   "metadata": {},
   "outputs": [
    {
     "name": "stdout",
     "output_type": "stream",
     "text": [
      "[Errno 2] No such file or directory: 'sudhanshu.txt'\n"
     ]
    }
   ],
   "source": [
    "try :\n",
    "    f = open(\"sudhanshu.txt\" , \"r\")\n",
    "except Exception as e :\n",
    "    print(e)"
   ]
  },
  {
   "cell_type": "code",
   "execution_count": 14,
   "id": "9606e54e",
   "metadata": {},
   "outputs": [
    {
     "ename": "FileNotFoundError",
     "evalue": "[Errno 2] No such file or directory: 'sudh.txt r'",
     "output_type": "error",
     "traceback": [
      "\u001b[1;31m---------------------------------------------------------------------------\u001b[0m",
      "\u001b[1;31mFileNotFoundError\u001b[0m                         Traceback (most recent call last)",
      "\u001b[1;32m~\\AppData\\Local\\Temp/ipykernel_29224/3507897170.py\u001b[0m in \u001b[0;36m<module>\u001b[1;34m\u001b[0m\n\u001b[1;32m----> 1\u001b[1;33m \u001b[0mf\u001b[0m \u001b[1;33m=\u001b[0m \u001b[0mopen\u001b[0m\u001b[1;33m(\u001b[0m\u001b[1;34m\"sudh.txt\"\u001b[0m \u001b[1;34m\" r\"\u001b[0m\u001b[1;33m)\u001b[0m\u001b[1;33m\u001b[0m\u001b[1;33m\u001b[0m\u001b[0m\n\u001b[0m\u001b[0;32m      2\u001b[0m \u001b[0mf\u001b[0m\u001b[1;33m.\u001b[0m\u001b[0mwrite\u001b[0m\u001b[1;33m(\u001b[0m\u001b[1;34m\"this is my suspicuous code \"\u001b[0m\u001b[1;33m)\u001b[0m\u001b[1;33m\u001b[0m\u001b[1;33m\u001b[0m\u001b[0m\n",
      "\u001b[1;31mFileNotFoundError\u001b[0m: [Errno 2] No such file or directory: 'sudh.txt r'"
     ]
    }
   ],
   "source": [
    "f = open(\"sudh.txt\" \" r\")\n",
    "f.write(\"this is my suspicuous code \")"
   ]
  },
  {
   "cell_type": "code",
   "execution_count": 16,
   "id": "342791f3",
   "metadata": {},
   "outputs": [
    {
     "name": "stdout",
     "output_type": "stream",
     "text": [
      "[Errno 2] No such file or directory: 'sudh.txt r'\n",
      "this is  not my suspicious set of the code \n"
     ]
    }
   ],
   "source": [
    "try :\n",
    "    f = open(\"sudh.txt\" \" r\")\n",
    "    f.write(\"this is my suspicuous code \")\n",
    "except Exception as e : \n",
    "    print(e)\n",
    "    print(\"this is  not my suspicious set of the code \")\n",
    "    "
   ]
  },
  {
   "cell_type": "code",
   "execution_count": 17,
   "id": "dd5ed784",
   "metadata": {},
   "outputs": [
    {
     "name": "stdout",
     "output_type": "stream",
     "text": [
      "[Errno 2] No such file or directory: 'sudh.txt r'\n",
      "this is  not my suspicious set of the code \n",
      "this bclock will be executed anytime \n"
     ]
    }
   ],
   "source": [
    "try :\n",
    "    f = open(\"sudh.txt\" \" r\")\n",
    "    f.write(\"this is my suspicuous code \")\n",
    "except Exception as e : \n",
    "    print(e)\n",
    "    print(\"this is  not my suspicious set of the code \")\n",
    "finally :\n",
    "    print(\"this block will be executed anytime \")\n",
    "    "
   ]
  },
  {
   "cell_type": "code",
   "execution_count": 19,
   "id": "30eb2050",
   "metadata": {},
   "outputs": [],
   "source": [
    "def askint():\n",
    "    try :\n",
    "        val = int(input(\"plese enter an interger \"))\n",
    "    except:\n",
    "        print(\"no you have not entered an  integer \")\n",
    "        try :\n",
    "            val = int(input(\"plese enter an interger \"))\n",
    "        except : \n",
    "            print(\"we are able to handle your mistake second time \")\n",
    "    finally : \n",
    "         print(\"finally will be executed anyhow \")\n",
    "            "
   ]
  },
  {
   "cell_type": "code",
   "execution_count": 18,
   "id": "89bc74f4",
   "metadata": {},
   "outputs": [
    {
     "name": "stdout",
     "output_type": "stream",
     "text": [
      "plese enter an interger sdfafasfdasf\n"
     ]
    },
    {
     "ename": "ValueError",
     "evalue": "invalid literal for int() with base 10: 'sdfafasfdasf'",
     "output_type": "error",
     "traceback": [
      "\u001b[1;31m---------------------------------------------------------------------------\u001b[0m",
      "\u001b[1;31mValueError\u001b[0m                                Traceback (most recent call last)",
      "\u001b[1;32m~\\AppData\\Local\\Temp/ipykernel_29224/1826628851.py\u001b[0m in \u001b[0;36m<module>\u001b[1;34m\u001b[0m\n\u001b[1;32m----> 1\u001b[1;33m \u001b[0mval\u001b[0m \u001b[1;33m=\u001b[0m \u001b[0mint\u001b[0m\u001b[1;33m(\u001b[0m\u001b[0minput\u001b[0m\u001b[1;33m(\u001b[0m\u001b[1;34m\"plese enter an interger \"\u001b[0m\u001b[1;33m)\u001b[0m\u001b[1;33m)\u001b[0m\u001b[1;33m\u001b[0m\u001b[1;33m\u001b[0m\u001b[0m\n\u001b[0m",
      "\u001b[1;31mValueError\u001b[0m: invalid literal for int() with base 10: 'sdfafasfdasf'"
     ]
    }
   ],
   "source": [
    "val = int(input(\"plese enter an interger \"))"
   ]
  },
  {
   "cell_type": "code",
   "execution_count": 20,
   "id": "f530019a",
   "metadata": {},
   "outputs": [
    {
     "name": "stdout",
     "output_type": "stream",
     "text": [
      "plese enter an interger dffafasfas\n",
      "no you have not entered an  integer \n",
      "plese enter an interger fdsasfadsf\n",
      "we are able to handle your mistake second time \n",
      "finally will be executed anyhow \n"
     ]
    }
   ],
   "source": [
    "askint()"
   ]
  },
  {
   "cell_type": "code",
   "execution_count": 23,
   "id": "b84608ba",
   "metadata": {},
   "outputs": [],
   "source": [
    "def askint1():\n",
    "    while True :\n",
    "        try :\n",
    "            val = int(input(\"please try to input an interger \"))\n",
    "            break \n",
    "        except : \n",
    "            print(\"looks like you have not enterd an integer \")\n",
    "            continue\n",
    "            \n",
    "            "
   ]
  },
  {
   "cell_type": "code",
   "execution_count": 24,
   "id": "550bff87",
   "metadata": {},
   "outputs": [
    {
     "name": "stdout",
     "output_type": "stream",
     "text": [
      "please try to input an interger fasdfasfassfdas\n",
      "looks like you have not enterd an integer \n",
      "please try to input an interger fdgadgf\n",
      "looks like you have not enterd an integer \n",
      "please try to input an interger fasdfas\n",
      "looks like you have not enterd an integer \n",
      "please try to input an interger fasdas\n",
      "looks like you have not enterd an integer \n",
      "please try to input an interger fasdf\n",
      "looks like you have not enterd an integer \n",
      "please try to input an interger fdas\n",
      "looks like you have not enterd an integer \n",
      "please try to input an interger fasd\n",
      "looks like you have not enterd an integer \n",
      "please try to input an interger fas\n",
      "looks like you have not enterd an integer \n",
      "please try to input an interger f\n",
      "looks like you have not enterd an integer \n",
      "please try to input an interger asdf\n",
      "looks like you have not enterd an integer \n",
      "please try to input an interger as\n",
      "looks like you have not enterd an integer \n",
      "please try to input an interger a\n",
      "looks like you have not enterd an integer \n",
      "please try to input an interger f\n",
      "looks like you have not enterd an integer \n",
      "please try to input an interger fd\n",
      "looks like you have not enterd an integer \n",
      "please try to input an interger asdfasdasf\n",
      "looks like you have not enterd an integer \n",
      "please try to input an interger 342534534\n"
     ]
    }
   ],
   "source": [
    "askint1()"
   ]
  },
  {
   "cell_type": "code",
   "execution_count": 26,
   "id": "5daff173",
   "metadata": {},
   "outputs": [
    {
     "name": "stdout",
     "output_type": "stream",
     "text": [
      "please try to input an interger dfgsd\n",
      "looks like you have not enterd an integer \n",
      "please try to input an interger gfadsg\n",
      "looks like you have not enterd an integer \n",
      "please try to input an interger fasdf\n",
      "looks like you have not enterd an integer \n",
      "please try to input an interger fsdf\n",
      "looks like you have not enterd an integer \n",
      "please try to input an interger fsda\n",
      "looks like you have not enterd an integer \n",
      "please try to input an interger 3453453\n"
     ]
    }
   ],
   "source": [
    "while True :\n",
    "    try :\n",
    "        val = int(input(\"please try to input an interger \"))\n",
    "        break \n",
    "    except : \n",
    "        print(\"looks like you have not enterd an integer \")\n",
    "        "
   ]
  },
  {
   "cell_type": "code",
   "execution_count": 28,
   "id": "31810f6b",
   "metadata": {},
   "outputs": [],
   "source": [
    "def askint():\n",
    "    while True : \n",
    "        \n",
    "        try:\n",
    "            val=int(input(\"Enter an Integer\"))\n",
    "            break\n",
    "        except:\n",
    "            print(\"No, you have not entered an Integer\")\n",
    "            continue\n"
   ]
  },
  {
   "cell_type": "code",
   "execution_count": 29,
   "id": "9da8ae4e",
   "metadata": {},
   "outputs": [
    {
     "name": "stdout",
     "output_type": "stream",
     "text": [
      "Enter an IntegerFDFDAS\n",
      "No, you have not entered an Integer\n",
      "Enter an IntegerASDFSA\n",
      "No, you have not entered an Integer\n",
      "Enter an IntegerFASF\n",
      "No, you have not entered an Integer\n",
      "Enter an Integer345345\n"
     ]
    }
   ],
   "source": [
    "askint()"
   ]
  },
  {
   "cell_type": "code",
   "execution_count": 30,
   "id": "3efee090",
   "metadata": {},
   "outputs": [],
   "source": [
    "def askint():\n",
    "    while True :\n",
    "        try :\n",
    "            val=int(input('enter integer'))\n",
    "            break\n",
    "        except :\n",
    "            print('Plz enter integer')\n",
    "            continue\n",
    "        finally :\n",
    "            print(\"it will be executed always\")\n"
   ]
  },
  {
   "cell_type": "code",
   "execution_count": 32,
   "id": "01dff1cd",
   "metadata": {},
   "outputs": [
    {
     "name": "stdout",
     "output_type": "stream",
     "text": [
      "enter integergsdf\n",
      "Plz enter integer\n",
      "it will be executed always\n",
      "enter integerdsfg\n",
      "Plz enter integer\n",
      "it will be executed always\n",
      "enter integer234\n",
      "it will be executed always\n"
     ]
    }
   ],
   "source": [
    "askint()"
   ]
  },
  {
   "cell_type": "code",
   "execution_count": 33,
   "id": "21b283ff",
   "metadata": {},
   "outputs": [
    {
     "name": "stdout",
     "output_type": "stream",
     "text": [
      "division by zero\n"
     ]
    }
   ],
   "source": [
    "try:\n",
    "    a=10\n",
    "    b=2\n",
    "    print(a/0)\n",
    "    print(a/2)\n",
    "    \n",
    "except Exception as e :\n",
    "    print(e)\n"
   ]
  },
  {
   "cell_type": "code",
   "execution_count": 36,
   "id": "5a6284ab",
   "metadata": {},
   "outputs": [],
   "source": [
    "def check_str1(a):\n",
    "    for i in a:\n",
    "        if type(i) == str:\n",
    "            print(i)\n"
   ]
  },
  {
   "cell_type": "code",
   "execution_count": 37,
   "id": "506e02da",
   "metadata": {},
   "outputs": [],
   "source": [
    "l2 = [1,2,3,4,5,[1,2,3],'r','b','c']\n",
    "\n"
   ]
  },
  {
   "cell_type": "code",
   "execution_count": 42,
   "id": "3f828d19",
   "metadata": {},
   "outputs": [
    {
     "ename": "FileNotFoundError",
     "evalue": "[Errno 2] No such file or directory: 'sudh23435.txt'",
     "output_type": "error",
     "traceback": [
      "\u001b[1;31m---------------------------------------------------------------------------\u001b[0m",
      "\u001b[1;31mFileNotFoundError\u001b[0m                         Traceback (most recent call last)",
      "\u001b[1;32m~\\AppData\\Local\\Temp/ipykernel_29224/2556764643.py\u001b[0m in \u001b[0;36m<module>\u001b[1;34m\u001b[0m\n\u001b[1;32m----> 1\u001b[1;33m \u001b[0mf1\u001b[0m\u001b[1;33m=\u001b[0m\u001b[0mopen\u001b[0m\u001b[1;33m(\u001b[0m\u001b[1;34m\"sudh23435.txt\"\u001b[0m\u001b[1;33m,\u001b[0m\u001b[1;34m\"r\"\u001b[0m\u001b[1;33m)\u001b[0m\u001b[1;33m\u001b[0m\u001b[1;33m\u001b[0m\u001b[0m\n\u001b[0m\u001b[0;32m      2\u001b[0m \u001b[1;32mtry\u001b[0m\u001b[1;33m:\u001b[0m\u001b[1;33m\u001b[0m\u001b[1;33m\u001b[0m\u001b[0m\n\u001b[0;32m      3\u001b[0m \u001b[1;33m\u001b[0m\u001b[0m\n\u001b[0;32m      4\u001b[0m     \u001b[0mf1\u001b[0m\u001b[1;33m=\u001b[0m\u001b[0mopen\u001b[0m\u001b[1;33m(\u001b[0m\u001b[1;34m\"sudh23435.txt\"\u001b[0m\u001b[1;33m,\u001b[0m\u001b[1;34m\"r\"\u001b[0m\u001b[1;33m)\u001b[0m\u001b[1;33m\u001b[0m\u001b[1;33m\u001b[0m\u001b[0m\n\u001b[0;32m      5\u001b[0m \u001b[1;32mexcept\u001b[0m \u001b[0mException\u001b[0m \u001b[1;32mas\u001b[0m \u001b[0me\u001b[0m\u001b[1;33m:\u001b[0m\u001b[1;33m\u001b[0m\u001b[1;33m\u001b[0m\u001b[0m\n",
      "\u001b[1;31mFileNotFoundError\u001b[0m: [Errno 2] No such file or directory: 'sudh23435.txt'"
     ]
    }
   ],
   "source": [
    "try:\n",
    "    \n",
    "    f1=open(\"sudh23435.txt\",\"r\")\n",
    "    f1.write()\n",
    "except Exception as e:\n",
    "    print(e)   \n",
    "\n",
    "finally:\n",
    "    f1.close()\n",
    "    print(\"inside finally block, even if there is an exception or not this will be printed\")\n"
   ]
  },
  {
   "cell_type": "code",
   "execution_count": null,
   "id": "c5c9e327",
   "metadata": {},
   "outputs": [],
   "source": [
    "//f1 system wil not be able difeing "
   ]
  }
 ],
 "metadata": {
  "kernelspec": {
   "display_name": "Python 3 (ipykernel)",
   "language": "python",
   "name": "python3"
  },
  "language_info": {
   "codemirror_mode": {
    "name": "ipython",
    "version": 3
   },
   "file_extension": ".py",
   "mimetype": "text/x-python",
   "name": "python",
   "nbconvert_exporter": "python",
   "pygments_lexer": "ipython3",
   "version": "3.9.12"
  }
 },
 "nbformat": 4,
 "nbformat_minor": 5
}
