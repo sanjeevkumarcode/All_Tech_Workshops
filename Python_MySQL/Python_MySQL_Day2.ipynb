{
 "cells": [
  {
   "cell_type": "markdown",
   "id": "8e92928e",
   "metadata": {},
   "source": [
    "# Creating connection"
   ]
  },
  {
   "cell_type": "code",
   "execution_count": 1,
   "id": "c3c1e627",
   "metadata": {},
   "outputs": [
    {
     "name": "stdout",
     "output_type": "stream",
     "text": [
      "<mysql.connector.connection_cext.CMySQLConnection object at 0x000002E965D78910>\n"
     ]
    }
   ],
   "source": [
    "### creating sql connection\n",
    "\n",
    "import mysql.connector as sql\n",
    "\n",
    "connection=sql.connect(\n",
    "host=\"localhost\",\n",
    "user=\"root\",\n",
    "password=\"Dhiwarbarh7#\",\n",
    "database=\"student\" #Particular database, Its up to me to select or not\n",
    ")\n",
    "\n",
    "print(connection)"
   ]
  },
  {
   "cell_type": "markdown",
   "id": "3738cef2",
   "metadata": {},
   "source": [
    "# Creating table in MySQL using Python"
   ]
  },
  {
   "cell_type": "code",
   "execution_count": 2,
   "id": "697cbc64",
   "metadata": {},
   "outputs": [],
   "source": [
    "cursor= connection.cursor()\n",
    "\n",
    "cursor.execute(\"CREATE TABLE studentinfo1 (id INT AUTO_INCREMENT PRIMARY KEY, name VARCHAR(255), subject VARCHAR(255))\")"
   ]
  },
  {
   "cell_type": "markdown",
   "id": "81679306",
   "metadata": {},
   "source": [
    "# Inserting records"
   ]
  },
  {
   "cell_type": "code",
   "execution_count": 6,
   "id": "4103b144",
   "metadata": {},
   "outputs": [
    {
     "name": "stdout",
     "output_type": "stream",
     "text": [
      "Row Inserted 3\n"
     ]
    }
   ],
   "source": [
    "# Inserting one record at a time\n",
    "query=\"INSERT INTO studentinfo1(name, subject) values(%s, %s)\"\n",
    "value=(\"sanjeev\",\"statistics\")\n",
    "cursor.execute(query,value)\n",
    "print(\"Row Inserted\",cursor.lastrowid)"
   ]
  },
  {
   "cell_type": "code",
   "execution_count": 7,
   "id": "91c3e7e8",
   "metadata": {},
   "outputs": [
    {
     "name": "stdout",
     "output_type": "stream",
     "text": [
      "Row Inserted 4\n"
     ]
    }
   ],
   "source": [
    "# Inserting multiple records\n",
    "query=\"INSERT INTO studentinfo1(name, subject) values(%s, %s)\"\n",
    "value=[(\"sanjeev\",\"statistics\"),(\"santosh\",\"science\"),(\"skuma01\",\"mathematics\")]\n",
    "cursor.executemany(query,value)\n",
    "print(\"Row Inserted\",cursor.lastrowid)"
   ]
  },
  {
   "cell_type": "markdown",
   "id": "283f8d53",
   "metadata": {},
   "source": [
    "# Selecting "
   ]
  },
  {
   "cell_type": "code",
   "execution_count": 8,
   "id": "55337483",
   "metadata": {},
   "outputs": [],
   "source": [
    "cursor=connection.cursor()\n",
    "cursor.execute(\"select *from studentinfo1\")"
   ]
  },
  {
   "cell_type": "markdown",
   "id": "2bf295d0",
   "metadata": {},
   "source": [
    "# Fetching data"
   ]
  },
  {
   "cell_type": "code",
   "execution_count": 9,
   "id": "79526580",
   "metadata": {},
   "outputs": [
    {
     "data": {
      "text/plain": [
       "[(1, 'sanjeev', 'statistics'),\n",
       " (2, 'sanjeev', 'statistics'),\n",
       " (3, 'sanjeev', 'statistics'),\n",
       " (4, 'sanjeev', 'statistics'),\n",
       " (5, 'santosh', 'science'),\n",
       " (6, 'skuma01', 'mathematics')]"
      ]
     },
     "execution_count": 9,
     "metadata": {},
     "output_type": "execute_result"
    }
   ],
   "source": [
    "# Fetching all the data\n",
    "\n",
    "cursor.fetchall()"
   ]
  },
  {
   "cell_type": "code",
   "execution_count": 10,
   "id": "7ee0e15d",
   "metadata": {},
   "outputs": [],
   "source": [
    "### Fetching one record at a time\n",
    "\n",
    "cursor.fetchone()"
   ]
  },
  {
   "cell_type": "markdown",
   "id": "eef30283",
   "metadata": {},
   "source": [
    "# Selecting particular row"
   ]
  },
  {
   "cell_type": "code",
   "execution_count": 12,
   "id": "f136dcdb",
   "metadata": {},
   "outputs": [],
   "source": [
    "cursor.execute(\"select *from studentinfo1 where id=4\")"
   ]
  },
  {
   "cell_type": "code",
   "execution_count": 13,
   "id": "8c61a99a",
   "metadata": {},
   "outputs": [
    {
     "data": {
      "text/plain": [
       "[(4, 'sanjeev', 'statistics')]"
      ]
     },
     "execution_count": 13,
     "metadata": {},
     "output_type": "execute_result"
    }
   ],
   "source": [
    "cursor.fetchall()"
   ]
  },
  {
   "cell_type": "markdown",
   "id": "4790b6dd",
   "metadata": {},
   "source": [
    "# Selecting particular column"
   ]
  },
  {
   "cell_type": "code",
   "execution_count": 14,
   "id": "d8675400",
   "metadata": {},
   "outputs": [],
   "source": [
    "cursor.execute(\"select id from studentinfo1\")"
   ]
  },
  {
   "cell_type": "code",
   "execution_count": 15,
   "id": "77a86e4f",
   "metadata": {},
   "outputs": [
    {
     "data": {
      "text/plain": [
       "[(1,), (2,), (3,), (4,), (5,), (6,)]"
      ]
     },
     "execution_count": 15,
     "metadata": {},
     "output_type": "execute_result"
    }
   ],
   "source": [
    "cursor.fetchall()"
   ]
  },
  {
   "cell_type": "markdown",
   "id": "6c91b598",
   "metadata": {},
   "source": [
    "# Drop table"
   ]
  },
  {
   "cell_type": "code",
   "execution_count": null,
   "id": "70d19e78",
   "metadata": {},
   "outputs": [],
   "source": [
    "cursor.execute(\"drop table studentinfo1\")"
   ]
  },
  {
   "cell_type": "code",
   "execution_count": null,
   "id": "979f3ddf",
   "metadata": {},
   "outputs": [],
   "source": []
  }
 ],
 "metadata": {
  "kernelspec": {
   "display_name": "Python 3 (ipykernel)",
   "language": "python",
   "name": "python3"
  },
  "language_info": {
   "codemirror_mode": {
    "name": "ipython",
    "version": 3
   },
   "file_extension": ".py",
   "mimetype": "text/x-python",
   "name": "python",
   "nbconvert_exporter": "python",
   "pygments_lexer": "ipython3",
   "version": "3.9.12"
  }
 },
 "nbformat": 4,
 "nbformat_minor": 5
}
